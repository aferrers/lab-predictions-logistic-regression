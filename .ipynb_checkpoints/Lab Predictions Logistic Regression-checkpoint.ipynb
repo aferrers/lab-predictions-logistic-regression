{
 "cells": [
  {
   "cell_type": "markdown",
   "id": "05f88274-4c6d-4b64-872a-2180b6e122b6",
   "metadata": {
    "tags": []
   },
   "source": [
    "## Lab Predictions Logistic Regression"
   ]
  },
  {
   "cell_type": "code",
   "execution_count": 1,
   "id": "ce6a6d5c-16d1-4fbc-9f76-7c45119f1187",
   "metadata": {
    "tags": []
   },
   "outputs": [],
   "source": [
    "# prep: import modules and get pwd\n",
    "import pymysql\n",
    "from sqlalchemy import create_engine\n",
    "import pandas as pd\n",
    "import numpy as np\n",
    "import getpass  # To get the password without showing the input"
   ]
  },
  {
   "cell_type": "code",
   "execution_count": 2,
   "id": "07b59e76-43b5-457b-a93f-edbfa3c95e35",
   "metadata": {
    "tags": []
   },
   "outputs": [
    {
     "name": "stdin",
     "output_type": "stream",
     "text": [
      " ········\n"
     ]
    }
   ],
   "source": [
    "# password tool\n",
    "password = getpass.getpass()"
   ]
  },
  {
   "cell_type": "code",
   "execution_count": 3,
   "id": "316ea169-6016-4be0-a547-790d834d813a",
   "metadata": {
    "tags": []
   },
   "outputs": [],
   "source": [
    "# mysl connnection setup\n",
    "connection_string = 'mysql+pymysql://root:' + password + '@localhost/sakila'\n",
    "engine = create_engine(connection_string)\n",
    "query = '''select * from film limit 5;'''"
   ]
  },
  {
   "cell_type": "markdown",
   "id": "c2c10404-6baf-4a80-be2c-eacb3648091f",
   "metadata": {
    "tags": []
   },
   "source": [
    "### steps 1-2-3"
   ]
  },
  {
   "cell_type": "code",
   "execution_count": null,
   "id": "e74d7e1f-8788-4ef8-99ef-c2dc32579d69",
   "metadata": {},
   "outputs": [],
   "source": [
    "# 1. Create a query or queries to extract the information you think may be relevant \n",
    "# for building the prediction model. It should include some film features and some rental features (X). "
   ]
  },
  {
   "cell_type": "code",
   "execution_count": null,
   "id": "2a757fab-77ae-4129-ba32-6ed989a59d59",
   "metadata": {},
   "outputs": [],
   "source": [
    "# 2. Create a query to get the list of all unique film titles and a boolean indicating \n",
    "# if it was rented (rental_date) in May 2005. (Create new column called - 'rented_in_may'). \n",
    "# This will be our **TARGET** (y) variable.\n"
   ]
  },
  {
   "cell_type": "code",
   "execution_count": null,
   "id": "d063cbe2-f525-4bc2-b551-320b15c22d9a",
   "metadata": {
    "tags": []
   },
   "outputs": [],
   "source": [
    "# 3. Read the data into a Pandas dataframe.  At this point you should have 1000 rows.  \n",
    "# Number of columns depends on the number of features you chose."
   ]
  },
  {
   "cell_type": "code",
   "execution_count": 5,
   "id": "27a98a30-84f4-4cba-84fb-01c6fd470f38",
   "metadata": {
    "tags": []
   },
   "outputs": [],
   "source": [
    "# query selects information from tables film, film_category, and category,\n",
    "# as well as from custom made VIEW 'rental_info_2'. Please view the queries folder for \n",
    "# full view on the queries and aggregations executed before to obtain the data.\n",
    "query = '''\n",
    "SELECT\n",
    "    f.film_id,\n",
    "    r.rented_may,\n",
    "    r.film_copies,\n",
    "    r.times_rented_may,\n",
    "    r.top_actor_flag,\n",
    "    f.title,\n",
    "    f.release_year,\n",
    "    f.language_id,\n",
    "    f.length,\n",
    "    f.rental_rate,\n",
    "    f.rating,\n",
    "    c.name as category,\n",
    "\trc2.rental_count_2005_06\n",
    "FROM \n",
    "\trental_info_2 r\n",
    "LEFT JOIN film f on r.film_id = f.film_id\n",
    "LEFT JOIN film_category fc ON f.film_id = fc.film_id\n",
    "LEFT JOIN category c ON fc.category_id = c.category_id\n",
    "LEFT jOIN rental_count_2005_06 rc2 ON f.film_id = rc2.film_id\n",
    "ORDER BY\n",
    "\tf.film_id ASC\n",
    ";\n",
    "'''"
   ]
  },
  {
   "cell_type": "code",
   "execution_count": 6,
   "id": "650bd878-830e-44e4-9965-d2493ede32ca",
   "metadata": {
    "tags": []
   },
   "outputs": [
    {
     "data": {
      "text/html": [
       "<div>\n",
       "<style scoped>\n",
       "    .dataframe tbody tr th:only-of-type {\n",
       "        vertical-align: middle;\n",
       "    }\n",
       "\n",
       "    .dataframe tbody tr th {\n",
       "        vertical-align: top;\n",
       "    }\n",
       "\n",
       "    .dataframe thead th {\n",
       "        text-align: right;\n",
       "    }\n",
       "</style>\n",
       "<table border=\"1\" class=\"dataframe\">\n",
       "  <thead>\n",
       "    <tr style=\"text-align: right;\">\n",
       "      <th></th>\n",
       "      <th>film_id</th>\n",
       "      <th>rented_may</th>\n",
       "      <th>film_copies</th>\n",
       "      <th>times_rented_may</th>\n",
       "      <th>top_actor_flag</th>\n",
       "      <th>title</th>\n",
       "      <th>release_year</th>\n",
       "      <th>language_id</th>\n",
       "      <th>length</th>\n",
       "      <th>rental_rate</th>\n",
       "      <th>rating</th>\n",
       "      <th>category</th>\n",
       "      <th>rental_count_2005_06</th>\n",
       "    </tr>\n",
       "  </thead>\n",
       "  <tbody>\n",
       "    <tr>\n",
       "      <th>0</th>\n",
       "      <td>1</td>\n",
       "      <td>1.0</td>\n",
       "      <td>8</td>\n",
       "      <td>2.0</td>\n",
       "      <td>1</td>\n",
       "      <td>ACADEMY DINOSAUR</td>\n",
       "      <td>2006</td>\n",
       "      <td>1</td>\n",
       "      <td>86</td>\n",
       "      <td>0.99</td>\n",
       "      <td>PG</td>\n",
       "      <td>Documentary</td>\n",
       "      <td>3.0</td>\n",
       "    </tr>\n",
       "    <tr>\n",
       "      <th>1</th>\n",
       "      <td>2</td>\n",
       "      <td>NaN</td>\n",
       "      <td>3</td>\n",
       "      <td>NaN</td>\n",
       "      <td>0</td>\n",
       "      <td>ACE GOLDFINGER</td>\n",
       "      <td>2006</td>\n",
       "      <td>1</td>\n",
       "      <td>48</td>\n",
       "      <td>4.99</td>\n",
       "      <td>G</td>\n",
       "      <td>Horror</td>\n",
       "      <td>NaN</td>\n",
       "    </tr>\n",
       "    <tr>\n",
       "      <th>2</th>\n",
       "      <td>3</td>\n",
       "      <td>1.0</td>\n",
       "      <td>4</td>\n",
       "      <td>1.0</td>\n",
       "      <td>0</td>\n",
       "      <td>ADAPTATION HOLES</td>\n",
       "      <td>2006</td>\n",
       "      <td>1</td>\n",
       "      <td>50</td>\n",
       "      <td>2.99</td>\n",
       "      <td>NC-17</td>\n",
       "      <td>Documentary</td>\n",
       "      <td>1.0</td>\n",
       "    </tr>\n",
       "    <tr>\n",
       "      <th>3</th>\n",
       "      <td>4</td>\n",
       "      <td>1.0</td>\n",
       "      <td>7</td>\n",
       "      <td>2.0</td>\n",
       "      <td>0</td>\n",
       "      <td>AFFAIR PREJUDICE</td>\n",
       "      <td>2006</td>\n",
       "      <td>1</td>\n",
       "      <td>117</td>\n",
       "      <td>2.99</td>\n",
       "      <td>G</td>\n",
       "      <td>Horror</td>\n",
       "      <td>2.0</td>\n",
       "    </tr>\n",
       "    <tr>\n",
       "      <th>4</th>\n",
       "      <td>5</td>\n",
       "      <td>1.0</td>\n",
       "      <td>3</td>\n",
       "      <td>1.0</td>\n",
       "      <td>0</td>\n",
       "      <td>AFRICAN EGG</td>\n",
       "      <td>2006</td>\n",
       "      <td>1</td>\n",
       "      <td>130</td>\n",
       "      <td>2.99</td>\n",
       "      <td>G</td>\n",
       "      <td>Family</td>\n",
       "      <td>2.0</td>\n",
       "    </tr>\n",
       "    <tr>\n",
       "      <th>...</th>\n",
       "      <td>...</td>\n",
       "      <td>...</td>\n",
       "      <td>...</td>\n",
       "      <td>...</td>\n",
       "      <td>...</td>\n",
       "      <td>...</td>\n",
       "      <td>...</td>\n",
       "      <td>...</td>\n",
       "      <td>...</td>\n",
       "      <td>...</td>\n",
       "      <td>...</td>\n",
       "      <td>...</td>\n",
       "      <td>...</td>\n",
       "    </tr>\n",
       "    <tr>\n",
       "      <th>995</th>\n",
       "      <td>996</td>\n",
       "      <td>NaN</td>\n",
       "      <td>2</td>\n",
       "      <td>NaN</td>\n",
       "      <td>0</td>\n",
       "      <td>YOUNG LANGUAGE</td>\n",
       "      <td>2006</td>\n",
       "      <td>1</td>\n",
       "      <td>183</td>\n",
       "      <td>0.99</td>\n",
       "      <td>G</td>\n",
       "      <td>Documentary</td>\n",
       "      <td>1.0</td>\n",
       "    </tr>\n",
       "    <tr>\n",
       "      <th>996</th>\n",
       "      <td>997</td>\n",
       "      <td>NaN</td>\n",
       "      <td>2</td>\n",
       "      <td>NaN</td>\n",
       "      <td>1</td>\n",
       "      <td>YOUTH KICK</td>\n",
       "      <td>2006</td>\n",
       "      <td>1</td>\n",
       "      <td>179</td>\n",
       "      <td>0.99</td>\n",
       "      <td>NC-17</td>\n",
       "      <td>Music</td>\n",
       "      <td>1.0</td>\n",
       "    </tr>\n",
       "    <tr>\n",
       "      <th>997</th>\n",
       "      <td>998</td>\n",
       "      <td>1.0</td>\n",
       "      <td>2</td>\n",
       "      <td>1.0</td>\n",
       "      <td>0</td>\n",
       "      <td>ZHIVAGO CORE</td>\n",
       "      <td>2006</td>\n",
       "      <td>1</td>\n",
       "      <td>105</td>\n",
       "      <td>0.99</td>\n",
       "      <td>NC-17</td>\n",
       "      <td>Horror</td>\n",
       "      <td>2.0</td>\n",
       "    </tr>\n",
       "    <tr>\n",
       "      <th>998</th>\n",
       "      <td>999</td>\n",
       "      <td>1.0</td>\n",
       "      <td>5</td>\n",
       "      <td>1.0</td>\n",
       "      <td>0</td>\n",
       "      <td>ZOOLANDER FICTION</td>\n",
       "      <td>2006</td>\n",
       "      <td>1</td>\n",
       "      <td>101</td>\n",
       "      <td>2.99</td>\n",
       "      <td>R</td>\n",
       "      <td>Children</td>\n",
       "      <td>2.0</td>\n",
       "    </tr>\n",
       "    <tr>\n",
       "      <th>999</th>\n",
       "      <td>1000</td>\n",
       "      <td>1.0</td>\n",
       "      <td>8</td>\n",
       "      <td>3.0</td>\n",
       "      <td>0</td>\n",
       "      <td>ZORRO ARK</td>\n",
       "      <td>2006</td>\n",
       "      <td>1</td>\n",
       "      <td>50</td>\n",
       "      <td>4.99</td>\n",
       "      <td>NC-17</td>\n",
       "      <td>Comedy</td>\n",
       "      <td>5.0</td>\n",
       "    </tr>\n",
       "  </tbody>\n",
       "</table>\n",
       "<p>1000 rows × 13 columns</p>\n",
       "</div>"
      ],
      "text/plain": [
       "     film_id  rented_may  film_copies  times_rented_may  top_actor_flag  \\\n",
       "0          1         1.0            8               2.0               1   \n",
       "1          2         NaN            3               NaN               0   \n",
       "2          3         1.0            4               1.0               0   \n",
       "3          4         1.0            7               2.0               0   \n",
       "4          5         1.0            3               1.0               0   \n",
       "..       ...         ...          ...               ...             ...   \n",
       "995      996         NaN            2               NaN               0   \n",
       "996      997         NaN            2               NaN               1   \n",
       "997      998         1.0            2               1.0               0   \n",
       "998      999         1.0            5               1.0               0   \n",
       "999     1000         1.0            8               3.0               0   \n",
       "\n",
       "                 title  release_year  language_id  length  rental_rate rating  \\\n",
       "0     ACADEMY DINOSAUR          2006            1      86         0.99     PG   \n",
       "1       ACE GOLDFINGER          2006            1      48         4.99      G   \n",
       "2     ADAPTATION HOLES          2006            1      50         2.99  NC-17   \n",
       "3     AFFAIR PREJUDICE          2006            1     117         2.99      G   \n",
       "4          AFRICAN EGG          2006            1     130         2.99      G   \n",
       "..                 ...           ...          ...     ...          ...    ...   \n",
       "995     YOUNG LANGUAGE          2006            1     183         0.99      G   \n",
       "996         YOUTH KICK          2006            1     179         0.99  NC-17   \n",
       "997       ZHIVAGO CORE          2006            1     105         0.99  NC-17   \n",
       "998  ZOOLANDER FICTION          2006            1     101         2.99      R   \n",
       "999          ZORRO ARK          2006            1      50         4.99  NC-17   \n",
       "\n",
       "        category  rental_count_2005_06  \n",
       "0    Documentary                   3.0  \n",
       "1         Horror                   NaN  \n",
       "2    Documentary                   1.0  \n",
       "3         Horror                   2.0  \n",
       "4         Family                   2.0  \n",
       "..           ...                   ...  \n",
       "995  Documentary                   1.0  \n",
       "996        Music                   1.0  \n",
       "997       Horror                   2.0  \n",
       "998     Children                   2.0  \n",
       "999       Comedy                   5.0  \n",
       "\n",
       "[1000 rows x 13 columns]"
      ]
     },
     "execution_count": 6,
     "metadata": {},
     "output_type": "execute_result"
    }
   ],
   "source": [
    "data = pd.read_sql_query(query, engine)\n",
    "data"
   ]
  },
  {
   "cell_type": "code",
   "execution_count": 7,
   "id": "7ca1aa1c-2eb0-4831-8c2a-f8ffff2134dd",
   "metadata": {
    "tags": []
   },
   "outputs": [],
   "source": [
    "#data copy \n",
    "data_original=data.copy()"
   ]
  },
  {
   "cell_type": "markdown",
   "id": "7f9aaec4-9818-433a-b02c-5579bbd0bcc3",
   "metadata": {
    "tags": []
   },
   "source": [
    "#### Initial Data Exploration and cleaning"
   ]
  },
  {
   "cell_type": "code",
   "execution_count": 12,
   "id": "b5cb9db8-29ea-4378-9eed-171eb3e3b6c3",
   "metadata": {
    "tags": []
   },
   "outputs": [
    {
     "name": "stdout",
     "output_type": "stream",
     "text": [
      "<class 'pandas.core.frame.DataFrame'>\n",
      "RangeIndex: 1000 entries, 0 to 999\n",
      "Data columns (total 13 columns):\n",
      " #   Column                Non-Null Count  Dtype  \n",
      "---  ------                --------------  -----  \n",
      " 0   film_id               1000 non-null   int64  \n",
      " 1   rented_may            1000 non-null   int64  \n",
      " 2   film_copies           1000 non-null   int64  \n",
      " 3   times_rented_may      1000 non-null   int64  \n",
      " 4   top_actor_flag        1000 non-null   int64  \n",
      " 5   title                 1000 non-null   object \n",
      " 6   release_year          1000 non-null   int64  \n",
      " 7   language_id           1000 non-null   int64  \n",
      " 8   length                1000 non-null   int64  \n",
      " 9   rental_rate           1000 non-null   float64\n",
      " 10  rating                1000 non-null   object \n",
      " 11  category              1000 non-null   object \n",
      " 12  rental_count_2005_06  1000 non-null   int64  \n",
      "dtypes: float64(1), int64(9), object(3)\n",
      "memory usage: 101.7+ KB\n"
     ]
    }
   ],
   "source": [
    "data.info()"
   ]
  },
  {
   "cell_type": "code",
   "execution_count": null,
   "id": "31002941-7c9c-4146-bb8c-7ea2e491bd3f",
   "metadata": {
    "tags": []
   },
   "outputs": [],
   "source": [
    "data.dtypes"
   ]
  },
  {
   "cell_type": "code",
   "execution_count": null,
   "id": "b8eb82ef-0b83-4326-aaa9-dc2ff4d5913d",
   "metadata": {
    "tags": []
   },
   "outputs": [],
   "source": [
    "data.isna().sum()"
   ]
  },
  {
   "cell_type": "code",
   "execution_count": 11,
   "id": "89fa5230-e232-42b7-9a18-466a66c63130",
   "metadata": {
    "tags": []
   },
   "outputs": [],
   "source": [
    "#data type check and null cleaning\n",
    "\n",
    "data['length'] = data['length'].astype('int')\n",
    "data['language_id'] = data['language_id'].astype('int')\n",
    "data['release_year'] = data['release_year'].astype('int')\n",
    "\n",
    "# removing nulls from the 3 columns with Nulls\n",
    "data['rented_may'] = data['rented_may'].fillna(0).astype(int)\n",
    "data['times_rented_may'] = data['times_rented_may'].fillna(0).astype(int)\n",
    "data['rental_count_2005_06'] = data['rental_count_2005_06'].fillna(0).astype(int)\n"
   ]
  },
  {
   "cell_type": "code",
   "execution_count": null,
   "id": "88a34b8f-9738-4b02-a553-cb98ef6381eb",
   "metadata": {
    "tags": []
   },
   "outputs": [],
   "source": [
    "data['times_rented_may'].unique()"
   ]
  },
  {
   "cell_type": "code",
   "execution_count": null,
   "id": "212e018b-f9b6-4434-8e6d-b0c462b1f3e2",
   "metadata": {
    "tags": []
   },
   "outputs": [],
   "source": [
    "data['times_rented_may'].value_counts()"
   ]
  },
  {
   "cell_type": "code",
   "execution_count": null,
   "id": "a1390b77-0102-4862-b699-85a8d7b02b8e",
   "metadata": {
    "tags": []
   },
   "outputs": [],
   "source": [
    "data.shape"
   ]
  },
  {
   "cell_type": "code",
   "execution_count": 20,
   "id": "f57ee118-95a7-4861-9ce7-18973bd8c80e",
   "metadata": {
    "tags": []
   },
   "outputs": [
    {
     "data": {
      "text/html": [
       "<div>\n",
       "<style scoped>\n",
       "    .dataframe tbody tr th:only-of-type {\n",
       "        vertical-align: middle;\n",
       "    }\n",
       "\n",
       "    .dataframe tbody tr th {\n",
       "        vertical-align: top;\n",
       "    }\n",
       "\n",
       "    .dataframe thead th {\n",
       "        text-align: right;\n",
       "    }\n",
       "</style>\n",
       "<table border=\"1\" class=\"dataframe\">\n",
       "  <thead>\n",
       "    <tr style=\"text-align: right;\">\n",
       "      <th></th>\n",
       "      <th>rented_may</th>\n",
       "      <th>film_copies</th>\n",
       "      <th>times_rented_may</th>\n",
       "      <th>top_actor_flag</th>\n",
       "      <th>title</th>\n",
       "      <th>release_year</th>\n",
       "      <th>language_id</th>\n",
       "      <th>length</th>\n",
       "      <th>rental_rate</th>\n",
       "      <th>rating</th>\n",
       "      <th>category</th>\n",
       "      <th>rental_count_2005_06</th>\n",
       "    </tr>\n",
       "    <tr>\n",
       "      <th>film_id</th>\n",
       "      <th></th>\n",
       "      <th></th>\n",
       "      <th></th>\n",
       "      <th></th>\n",
       "      <th></th>\n",
       "      <th></th>\n",
       "      <th></th>\n",
       "      <th></th>\n",
       "      <th></th>\n",
       "      <th></th>\n",
       "      <th></th>\n",
       "      <th></th>\n",
       "    </tr>\n",
       "  </thead>\n",
       "  <tbody>\n",
       "    <tr>\n",
       "      <th>1</th>\n",
       "      <td>1</td>\n",
       "      <td>8</td>\n",
       "      <td>2</td>\n",
       "      <td>1</td>\n",
       "      <td>ACADEMY DINOSAUR</td>\n",
       "      <td>2006</td>\n",
       "      <td>1</td>\n",
       "      <td>86</td>\n",
       "      <td>0.99</td>\n",
       "      <td>PG</td>\n",
       "      <td>Documentary</td>\n",
       "      <td>3</td>\n",
       "    </tr>\n",
       "    <tr>\n",
       "      <th>2</th>\n",
       "      <td>0</td>\n",
       "      <td>3</td>\n",
       "      <td>0</td>\n",
       "      <td>0</td>\n",
       "      <td>ACE GOLDFINGER</td>\n",
       "      <td>2006</td>\n",
       "      <td>1</td>\n",
       "      <td>48</td>\n",
       "      <td>4.99</td>\n",
       "      <td>G</td>\n",
       "      <td>Horror</td>\n",
       "      <td>0</td>\n",
       "    </tr>\n",
       "    <tr>\n",
       "      <th>3</th>\n",
       "      <td>1</td>\n",
       "      <td>4</td>\n",
       "      <td>1</td>\n",
       "      <td>0</td>\n",
       "      <td>ADAPTATION HOLES</td>\n",
       "      <td>2006</td>\n",
       "      <td>1</td>\n",
       "      <td>50</td>\n",
       "      <td>2.99</td>\n",
       "      <td>NC-17</td>\n",
       "      <td>Documentary</td>\n",
       "      <td>1</td>\n",
       "    </tr>\n",
       "    <tr>\n",
       "      <th>4</th>\n",
       "      <td>1</td>\n",
       "      <td>7</td>\n",
       "      <td>2</td>\n",
       "      <td>0</td>\n",
       "      <td>AFFAIR PREJUDICE</td>\n",
       "      <td>2006</td>\n",
       "      <td>1</td>\n",
       "      <td>117</td>\n",
       "      <td>2.99</td>\n",
       "      <td>G</td>\n",
       "      <td>Horror</td>\n",
       "      <td>2</td>\n",
       "    </tr>\n",
       "    <tr>\n",
       "      <th>5</th>\n",
       "      <td>1</td>\n",
       "      <td>3</td>\n",
       "      <td>1</td>\n",
       "      <td>0</td>\n",
       "      <td>AFRICAN EGG</td>\n",
       "      <td>2006</td>\n",
       "      <td>1</td>\n",
       "      <td>130</td>\n",
       "      <td>2.99</td>\n",
       "      <td>G</td>\n",
       "      <td>Family</td>\n",
       "      <td>2</td>\n",
       "    </tr>\n",
       "    <tr>\n",
       "      <th>...</th>\n",
       "      <td>...</td>\n",
       "      <td>...</td>\n",
       "      <td>...</td>\n",
       "      <td>...</td>\n",
       "      <td>...</td>\n",
       "      <td>...</td>\n",
       "      <td>...</td>\n",
       "      <td>...</td>\n",
       "      <td>...</td>\n",
       "      <td>...</td>\n",
       "      <td>...</td>\n",
       "      <td>...</td>\n",
       "    </tr>\n",
       "    <tr>\n",
       "      <th>996</th>\n",
       "      <td>0</td>\n",
       "      <td>2</td>\n",
       "      <td>0</td>\n",
       "      <td>0</td>\n",
       "      <td>YOUNG LANGUAGE</td>\n",
       "      <td>2006</td>\n",
       "      <td>1</td>\n",
       "      <td>183</td>\n",
       "      <td>0.99</td>\n",
       "      <td>G</td>\n",
       "      <td>Documentary</td>\n",
       "      <td>1</td>\n",
       "    </tr>\n",
       "    <tr>\n",
       "      <th>997</th>\n",
       "      <td>0</td>\n",
       "      <td>2</td>\n",
       "      <td>0</td>\n",
       "      <td>1</td>\n",
       "      <td>YOUTH KICK</td>\n",
       "      <td>2006</td>\n",
       "      <td>1</td>\n",
       "      <td>179</td>\n",
       "      <td>0.99</td>\n",
       "      <td>NC-17</td>\n",
       "      <td>Music</td>\n",
       "      <td>1</td>\n",
       "    </tr>\n",
       "    <tr>\n",
       "      <th>998</th>\n",
       "      <td>1</td>\n",
       "      <td>2</td>\n",
       "      <td>1</td>\n",
       "      <td>0</td>\n",
       "      <td>ZHIVAGO CORE</td>\n",
       "      <td>2006</td>\n",
       "      <td>1</td>\n",
       "      <td>105</td>\n",
       "      <td>0.99</td>\n",
       "      <td>NC-17</td>\n",
       "      <td>Horror</td>\n",
       "      <td>2</td>\n",
       "    </tr>\n",
       "    <tr>\n",
       "      <th>999</th>\n",
       "      <td>1</td>\n",
       "      <td>5</td>\n",
       "      <td>1</td>\n",
       "      <td>0</td>\n",
       "      <td>ZOOLANDER FICTION</td>\n",
       "      <td>2006</td>\n",
       "      <td>1</td>\n",
       "      <td>101</td>\n",
       "      <td>2.99</td>\n",
       "      <td>R</td>\n",
       "      <td>Children</td>\n",
       "      <td>2</td>\n",
       "    </tr>\n",
       "    <tr>\n",
       "      <th>1000</th>\n",
       "      <td>1</td>\n",
       "      <td>8</td>\n",
       "      <td>3</td>\n",
       "      <td>0</td>\n",
       "      <td>ZORRO ARK</td>\n",
       "      <td>2006</td>\n",
       "      <td>1</td>\n",
       "      <td>50</td>\n",
       "      <td>4.99</td>\n",
       "      <td>NC-17</td>\n",
       "      <td>Comedy</td>\n",
       "      <td>5</td>\n",
       "    </tr>\n",
       "  </tbody>\n",
       "</table>\n",
       "<p>1000 rows × 12 columns</p>\n",
       "</div>"
      ],
      "text/plain": [
       "         rented_may  film_copies  times_rented_may  top_actor_flag  \\\n",
       "film_id                                                              \n",
       "1                 1            8                 2               1   \n",
       "2                 0            3                 0               0   \n",
       "3                 1            4                 1               0   \n",
       "4                 1            7                 2               0   \n",
       "5                 1            3                 1               0   \n",
       "...             ...          ...               ...             ...   \n",
       "996               0            2                 0               0   \n",
       "997               0            2                 0               1   \n",
       "998               1            2                 1               0   \n",
       "999               1            5                 1               0   \n",
       "1000              1            8                 3               0   \n",
       "\n",
       "                     title  release_year  language_id  length  rental_rate  \\\n",
       "film_id                                                                      \n",
       "1         ACADEMY DINOSAUR          2006            1      86         0.99   \n",
       "2           ACE GOLDFINGER          2006            1      48         4.99   \n",
       "3         ADAPTATION HOLES          2006            1      50         2.99   \n",
       "4         AFFAIR PREJUDICE          2006            1     117         2.99   \n",
       "5              AFRICAN EGG          2006            1     130         2.99   \n",
       "...                    ...           ...          ...     ...          ...   \n",
       "996         YOUNG LANGUAGE          2006            1     183         0.99   \n",
       "997             YOUTH KICK          2006            1     179         0.99   \n",
       "998           ZHIVAGO CORE          2006            1     105         0.99   \n",
       "999      ZOOLANDER FICTION          2006            1     101         2.99   \n",
       "1000             ZORRO ARK          2006            1      50         4.99   \n",
       "\n",
       "        rating     category  rental_count_2005_06  \n",
       "film_id                                            \n",
       "1           PG  Documentary                     3  \n",
       "2            G       Horror                     0  \n",
       "3        NC-17  Documentary                     1  \n",
       "4            G       Horror                     2  \n",
       "5            G       Family                     2  \n",
       "...        ...          ...                   ...  \n",
       "996          G  Documentary                     1  \n",
       "997      NC-17        Music                     1  \n",
       "998      NC-17       Horror                     2  \n",
       "999          R     Children                     2  \n",
       "1000     NC-17       Comedy                     5  \n",
       "\n",
       "[1000 rows x 12 columns]"
      ]
     },
     "execution_count": 20,
     "metadata": {},
     "output_type": "execute_result"
    }
   ],
   "source": [
    "data"
   ]
  },
  {
   "cell_type": "code",
   "execution_count": 19,
   "id": "74b9dbab-30e2-4a14-a245-de57e4f800fd",
   "metadata": {
    "tags": []
   },
   "outputs": [],
   "source": [
    "data.set_index('film_id', inplace=True)\n"
   ]
  },
  {
   "cell_type": "markdown",
   "id": "8b8bbdc5-ccd3-408a-a3c7-8261a6b724aa",
   "metadata": {},
   "source": [
    "### step 4"
   ]
  },
  {
   "cell_type": "code",
   "execution_count": null,
   "id": "e48fed4b-1a54-43a2-8614-0e7c558d8e62",
   "metadata": {},
   "outputs": [],
   "source": [
    "# 4. Analyze extracted features (X) and transform them. You may need to encode some categorical variables, \n",
    "# or scale numerical variables.\n"
   ]
  },
  {
   "cell_type": "markdown",
   "id": "a2dc891b-0e00-43ee-a273-5df81378957c",
   "metadata": {
    "tags": []
   },
   "source": [
    "#### Data Exploration: selected variables"
   ]
  },
  {
   "cell_type": "code",
   "execution_count": 13,
   "id": "e4be6ccb-f9d3-469c-9c46-1805a882c229",
   "metadata": {
    "tags": []
   },
   "outputs": [
    {
     "data": {
      "text/html": [
       "<div>\n",
       "<style scoped>\n",
       "    .dataframe tbody tr th:only-of-type {\n",
       "        vertical-align: middle;\n",
       "    }\n",
       "\n",
       "    .dataframe tbody tr th {\n",
       "        vertical-align: top;\n",
       "    }\n",
       "\n",
       "    .dataframe thead th {\n",
       "        text-align: right;\n",
       "    }\n",
       "</style>\n",
       "<table border=\"1\" class=\"dataframe\">\n",
       "  <thead>\n",
       "    <tr style=\"text-align: right;\">\n",
       "      <th></th>\n",
       "      <th>title</th>\n",
       "      <th>rating</th>\n",
       "      <th>category</th>\n",
       "    </tr>\n",
       "  </thead>\n",
       "  <tbody>\n",
       "    <tr>\n",
       "      <th>count</th>\n",
       "      <td>1000</td>\n",
       "      <td>1000</td>\n",
       "      <td>1000</td>\n",
       "    </tr>\n",
       "    <tr>\n",
       "      <th>unique</th>\n",
       "      <td>1000</td>\n",
       "      <td>5</td>\n",
       "      <td>16</td>\n",
       "    </tr>\n",
       "    <tr>\n",
       "      <th>top</th>\n",
       "      <td>ACADEMY DINOSAUR</td>\n",
       "      <td>PG-13</td>\n",
       "      <td>Sports</td>\n",
       "    </tr>\n",
       "    <tr>\n",
       "      <th>freq</th>\n",
       "      <td>1</td>\n",
       "      <td>223</td>\n",
       "      <td>74</td>\n",
       "    </tr>\n",
       "  </tbody>\n",
       "</table>\n",
       "</div>"
      ],
      "text/plain": [
       "                   title rating category\n",
       "count               1000   1000     1000\n",
       "unique              1000      5       16\n",
       "top     ACADEMY DINOSAUR  PG-13   Sports\n",
       "freq                   1    223       74"
      ]
     },
     "execution_count": 13,
     "metadata": {},
     "output_type": "execute_result"
    }
   ],
   "source": [
    "# Describe object columns in original data\n",
    "data.describe(include='object') # decide to drop release year, language id"
   ]
  },
  {
   "cell_type": "code",
   "execution_count": 21,
   "id": "f309dc3a-3e91-4ecf-a9f1-99d03cd496a8",
   "metadata": {
    "tags": []
   },
   "outputs": [],
   "source": [
    "selected_data=data.copy()"
   ]
  },
  {
   "cell_type": "code",
   "execution_count": 22,
   "id": "df6f0682-8cc2-497b-85e4-94a2480d15b2",
   "metadata": {
    "tags": []
   },
   "outputs": [],
   "source": [
    "# decide to drop columns due to redundancy (only one unique value): (1) release year, (2) language id\n",
    "selected_data=data.drop(['release_year','language_id'], axis=1, inplace=False)\n",
    "\n",
    "# decide to drop (3) category (too many unique values, does not seem to be very related to the dependent variable)\n",
    "# and (4) title: used mostly as an identifier, for which film_id was kept\n",
    "\n",
    "#data['category'].value_counts()\n",
    "selected_data=selected_data.drop('category', axis=1, inplace=False)\n",
    "selected_data=selected_data.drop('title', axis=1, inplace=False)\n",
    "\n",
    "# dropped becuase it is directly related to y (always 0 when y is 0). \n",
    "selected_data=selected_data.drop('times_rented_may', axis=1, inplace=False)"
   ]
  },
  {
   "cell_type": "code",
   "execution_count": 23,
   "id": "3fc7c592-2a99-433e-8b77-17ae31143b03",
   "metadata": {
    "tags": []
   },
   "outputs": [
    {
     "data": {
      "text/html": [
       "<div>\n",
       "<style scoped>\n",
       "    .dataframe tbody tr th:only-of-type {\n",
       "        vertical-align: middle;\n",
       "    }\n",
       "\n",
       "    .dataframe tbody tr th {\n",
       "        vertical-align: top;\n",
       "    }\n",
       "\n",
       "    .dataframe thead th {\n",
       "        text-align: right;\n",
       "    }\n",
       "</style>\n",
       "<table border=\"1\" class=\"dataframe\">\n",
       "  <thead>\n",
       "    <tr style=\"text-align: right;\">\n",
       "      <th></th>\n",
       "      <th>rating</th>\n",
       "    </tr>\n",
       "  </thead>\n",
       "  <tbody>\n",
       "    <tr>\n",
       "      <th>count</th>\n",
       "      <td>1000</td>\n",
       "    </tr>\n",
       "    <tr>\n",
       "      <th>unique</th>\n",
       "      <td>5</td>\n",
       "    </tr>\n",
       "    <tr>\n",
       "      <th>top</th>\n",
       "      <td>PG-13</td>\n",
       "    </tr>\n",
       "    <tr>\n",
       "      <th>freq</th>\n",
       "      <td>223</td>\n",
       "    </tr>\n",
       "  </tbody>\n",
       "</table>\n",
       "</div>"
      ],
      "text/plain": [
       "       rating\n",
       "count    1000\n",
       "unique      5\n",
       "top     PG-13\n",
       "freq      223"
      ]
     },
     "execution_count": 23,
     "metadata": {},
     "output_type": "execute_result"
    }
   ],
   "source": [
    "# Describe object columns in selected data, after removing multiple columns\n",
    "selected_data.describe(include='object') #drop release year, language id"
   ]
  },
  {
   "cell_type": "code",
   "execution_count": 24,
   "id": "6d8d159a-59fd-4f06-8424-bb2a3e5a24d6",
   "metadata": {
    "tags": []
   },
   "outputs": [
    {
     "data": {
      "text/html": [
       "<div>\n",
       "<style scoped>\n",
       "    .dataframe tbody tr th:only-of-type {\n",
       "        vertical-align: middle;\n",
       "    }\n",
       "\n",
       "    .dataframe tbody tr th {\n",
       "        vertical-align: top;\n",
       "    }\n",
       "\n",
       "    .dataframe thead th {\n",
       "        text-align: right;\n",
       "    }\n",
       "</style>\n",
       "<table border=\"1\" class=\"dataframe\">\n",
       "  <thead>\n",
       "    <tr style=\"text-align: right;\">\n",
       "      <th></th>\n",
       "      <th>rented_may</th>\n",
       "      <th>film_copies</th>\n",
       "      <th>top_actor_flag</th>\n",
       "      <th>length</th>\n",
       "      <th>rental_rate</th>\n",
       "      <th>rental_count_2005_06</th>\n",
       "    </tr>\n",
       "  </thead>\n",
       "  <tbody>\n",
       "    <tr>\n",
       "      <th>count</th>\n",
       "      <td>1000.000000</td>\n",
       "      <td>1000.000000</td>\n",
       "      <td>1000.000000</td>\n",
       "      <td>1000.000000</td>\n",
       "      <td>1000.000000</td>\n",
       "      <td>1000.000000</td>\n",
       "    </tr>\n",
       "    <tr>\n",
       "      <th>mean</th>\n",
       "      <td>0.686000</td>\n",
       "      <td>4.581000</td>\n",
       "      <td>0.119000</td>\n",
       "      <td>115.272000</td>\n",
       "      <td>2.980000</td>\n",
       "      <td>2.311000</td>\n",
       "    </tr>\n",
       "    <tr>\n",
       "      <th>std</th>\n",
       "      <td>0.464349</td>\n",
       "      <td>2.020277</td>\n",
       "      <td>0.323951</td>\n",
       "      <td>40.426332</td>\n",
       "      <td>1.646393</td>\n",
       "      <td>1.439566</td>\n",
       "    </tr>\n",
       "    <tr>\n",
       "      <th>min</th>\n",
       "      <td>0.000000</td>\n",
       "      <td>0.000000</td>\n",
       "      <td>0.000000</td>\n",
       "      <td>46.000000</td>\n",
       "      <td>0.990000</td>\n",
       "      <td>0.000000</td>\n",
       "    </tr>\n",
       "    <tr>\n",
       "      <th>25%</th>\n",
       "      <td>0.000000</td>\n",
       "      <td>3.000000</td>\n",
       "      <td>0.000000</td>\n",
       "      <td>80.000000</td>\n",
       "      <td>0.990000</td>\n",
       "      <td>1.000000</td>\n",
       "    </tr>\n",
       "    <tr>\n",
       "      <th>50%</th>\n",
       "      <td>1.000000</td>\n",
       "      <td>5.000000</td>\n",
       "      <td>0.000000</td>\n",
       "      <td>114.000000</td>\n",
       "      <td>2.990000</td>\n",
       "      <td>2.000000</td>\n",
       "    </tr>\n",
       "    <tr>\n",
       "      <th>75%</th>\n",
       "      <td>1.000000</td>\n",
       "      <td>6.000000</td>\n",
       "      <td>0.000000</td>\n",
       "      <td>149.250000</td>\n",
       "      <td>4.990000</td>\n",
       "      <td>3.000000</td>\n",
       "    </tr>\n",
       "    <tr>\n",
       "      <th>max</th>\n",
       "      <td>1.000000</td>\n",
       "      <td>8.000000</td>\n",
       "      <td>1.000000</td>\n",
       "      <td>185.000000</td>\n",
       "      <td>4.990000</td>\n",
       "      <td>7.000000</td>\n",
       "    </tr>\n",
       "  </tbody>\n",
       "</table>\n",
       "</div>"
      ],
      "text/plain": [
       "        rented_may  film_copies  top_actor_flag       length  rental_rate  \\\n",
       "count  1000.000000  1000.000000     1000.000000  1000.000000  1000.000000   \n",
       "mean      0.686000     4.581000        0.119000   115.272000     2.980000   \n",
       "std       0.464349     2.020277        0.323951    40.426332     1.646393   \n",
       "min       0.000000     0.000000        0.000000    46.000000     0.990000   \n",
       "25%       0.000000     3.000000        0.000000    80.000000     0.990000   \n",
       "50%       1.000000     5.000000        0.000000   114.000000     2.990000   \n",
       "75%       1.000000     6.000000        0.000000   149.250000     4.990000   \n",
       "max       1.000000     8.000000        1.000000   185.000000     4.990000   \n",
       "\n",
       "       rental_count_2005_06  \n",
       "count           1000.000000  \n",
       "mean               2.311000  \n",
       "std                1.439566  \n",
       "min                0.000000  \n",
       "25%                1.000000  \n",
       "50%                2.000000  \n",
       "75%                3.000000  \n",
       "max                7.000000  "
      ]
     },
     "execution_count": 24,
     "metadata": {},
     "output_type": "execute_result"
    }
   ],
   "source": [
    "#Describe selected numerical data\n",
    "selected_data.describe()"
   ]
  },
  {
   "cell_type": "code",
   "execution_count": null,
   "id": "4877e10f-6eca-4329-9300-3512ef03cd75",
   "metadata": {
    "tags": []
   },
   "outputs": [],
   "source": [
    "# Analyis of variables: length\n",
    "sns.histplot(data=data, x='length')"
   ]
  },
  {
   "cell_type": "code",
   "execution_count": null,
   "id": "26bbd73a-4dee-43d8-b02c-bcfdea880ca9",
   "metadata": {
    "tags": []
   },
   "outputs": [],
   "source": [
    "# Analyis of variables: length\n",
    "\n",
    "skewness_length = data['length'].skew()\n",
    "skewness_length"
   ]
  },
  {
   "cell_type": "code",
   "execution_count": null,
   "id": "2b1300bc-9a56-4ff6-bed2-2d9372eb9237",
   "metadata": {},
   "outputs": [],
   "source": [
    "# the analysis of 'length' leads to not suggesting any transformation for this variable\n",
    "# as the data shows a very low skewness factor and the visually it seems to have a relatively even distribution "
   ]
  },
  {
   "cell_type": "code",
   "execution_count": null,
   "id": "b457c2db-114d-42d1-bc6c-997458565a74",
   "metadata": {
    "tags": []
   },
   "outputs": [],
   "source": [
    "# other variables' analysis\n",
    "pd.crosstab(data['rented_may'],data['film_copies'])"
   ]
  },
  {
   "cell_type": "code",
   "execution_count": null,
   "id": "5cec3d91-d896-4e10-867e-bc0e9ecd41b6",
   "metadata": {
    "tags": []
   },
   "outputs": [],
   "source": [
    "# other variables' analysis\n",
    "\n",
    "pd.crosstab(data['times_rented_may'],data['film_copies'])"
   ]
  },
  {
   "cell_type": "markdown",
   "id": "91e90158-7caf-4f5e-971d-082c2466508b",
   "metadata": {},
   "source": [
    "#### Charts & Plots"
   ]
  },
  {
   "cell_type": "code",
   "execution_count": null,
   "id": "789e1d89-4b3f-41c4-80e4-134c6cf25616",
   "metadata": {
    "tags": []
   },
   "outputs": [],
   "source": [
    "import seaborn as sns\n",
    "import matplotlib.pyplot as plt\n",
    "\n",
    "sns.barplot(x='rented_may', y='film_copies', data=data)\n",
    "plt.show()"
   ]
  },
  {
   "cell_type": "code",
   "execution_count": null,
   "id": "ead9822a-dc20-4e60-a3ab-ff05163f80a7",
   "metadata": {
    "tags": []
   },
   "outputs": [],
   "source": [
    "import seaborn as sns\n",
    "import matplotlib.pyplot as plt\n",
    "\n",
    "sns.barplot(x='film_copies', y='times_rented_may', data=data)\n",
    "plt.show()"
   ]
  },
  {
   "cell_type": "code",
   "execution_count": null,
   "id": "e106e251-f1b5-443d-9641-615f1636b19a",
   "metadata": {
    "tags": []
   },
   "outputs": [],
   "source": [
    "import seaborn as sns\n",
    "import matplotlib.pyplot as plt\n",
    "\n",
    "sns.barplot(x='rental_rate', y='times_rented_may', data=data)\n",
    "plt.show()"
   ]
  },
  {
   "cell_type": "code",
   "execution_count": null,
   "id": "90f0dd82-5bec-4605-b999-31f0caa251d3",
   "metadata": {
    "tags": []
   },
   "outputs": [],
   "source": [
    "import seaborn as sns\n",
    "import matplotlib.pyplot as plt\n",
    "\n",
    "sns.barplot(x='rating', y='times_rented_may', data=data)\n",
    "plt.show()"
   ]
  },
  {
   "cell_type": "code",
   "execution_count": null,
   "id": "38767ffa-23e8-4d52-bcb2-eb0fc9564245",
   "metadata": {
    "tags": []
   },
   "outputs": [],
   "source": [
    "\n",
    "sorted_data = data.sort_values('times_rented_may', ascending=False)\n",
    "\n",
    "sns.barplot(y='category', x='times_rented_may', data=sorted_data, order=sorted_data['category'].unique())\n",
    "plt.show()"
   ]
  },
  {
   "cell_type": "markdown",
   "id": "c1d1b9aa-88b1-4337-9f5e-1b6461e524d6",
   "metadata": {
    "tags": []
   },
   "source": [
    "#### encode some categorical variables, or scale numerical variables."
   ]
  },
  {
   "cell_type": "code",
   "execution_count": null,
   "id": "8001eb6c-3e20-4a18-9cb4-7bfb5d3223cf",
   "metadata": {
    "tags": []
   },
   "outputs": [],
   "source": [
    "# data.info\n",
    "selected_data.info()"
   ]
  },
  {
   "cell_type": "markdown",
   "id": "120503dc-d7b1-498a-83fd-da0c138bff11",
   "metadata": {},
   "source": [
    " #   Column            type.           Dtype  \n",
    "---  ------            --------------  -----  \n",
    " 0   film_id           index.          object  -- \n",
    " 1   rented_may        1/0 categorical ord   object  -- encoded\n",
    " 2   film_copies       num; discrete1:6   int64  -- encoded\n",
    " 3   times_rented_may  0-5 num;discrete   int64  --encoded\n",
    " 4   top_actor_flag    1/0 categorical ord   object  -- encoded\n",
    " 5   title                             object  x (drop) \n",
    " 6   length            num, cont.       int64  \n",
    " 7   rental_rate       3 options   float64 --  to encode!\n",
    " 8   rating            1000 non-null   object  use onehotencoder\n",
    " 9   category          1000 non-null   object drop. too many examples\n",
    "     rental_count_2005_06: int: ideally would use the rental count fothe month before but it was not available in the data. -->"
   ]
  },
  {
   "cell_type": "code",
   "execution_count": 25,
   "id": "07e4eab7-4560-4da5-9edb-650bf453cf93",
   "metadata": {
    "tags": []
   },
   "outputs": [
    {
     "data": {
      "text/html": [
       "<div>\n",
       "<style scoped>\n",
       "    .dataframe tbody tr th:only-of-type {\n",
       "        vertical-align: middle;\n",
       "    }\n",
       "\n",
       "    .dataframe tbody tr th {\n",
       "        vertical-align: top;\n",
       "    }\n",
       "\n",
       "    .dataframe thead th {\n",
       "        text-align: right;\n",
       "    }\n",
       "</style>\n",
       "<table border=\"1\" class=\"dataframe\">\n",
       "  <thead>\n",
       "    <tr style=\"text-align: right;\">\n",
       "      <th></th>\n",
       "      <th>rented_may</th>\n",
       "      <th>film_copies</th>\n",
       "      <th>top_actor_flag</th>\n",
       "      <th>length</th>\n",
       "      <th>rental_rate</th>\n",
       "      <th>rating</th>\n",
       "      <th>rental_count_2005_06</th>\n",
       "    </tr>\n",
       "    <tr>\n",
       "      <th>film_id</th>\n",
       "      <th></th>\n",
       "      <th></th>\n",
       "      <th></th>\n",
       "      <th></th>\n",
       "      <th></th>\n",
       "      <th></th>\n",
       "      <th></th>\n",
       "    </tr>\n",
       "  </thead>\n",
       "  <tbody>\n",
       "    <tr>\n",
       "      <th>1</th>\n",
       "      <td>1</td>\n",
       "      <td>8</td>\n",
       "      <td>1</td>\n",
       "      <td>86</td>\n",
       "      <td>0.99</td>\n",
       "      <td>PG</td>\n",
       "      <td>3</td>\n",
       "    </tr>\n",
       "    <tr>\n",
       "      <th>2</th>\n",
       "      <td>0</td>\n",
       "      <td>3</td>\n",
       "      <td>0</td>\n",
       "      <td>48</td>\n",
       "      <td>4.99</td>\n",
       "      <td>G</td>\n",
       "      <td>0</td>\n",
       "    </tr>\n",
       "    <tr>\n",
       "      <th>3</th>\n",
       "      <td>1</td>\n",
       "      <td>4</td>\n",
       "      <td>0</td>\n",
       "      <td>50</td>\n",
       "      <td>2.99</td>\n",
       "      <td>NC-17</td>\n",
       "      <td>1</td>\n",
       "    </tr>\n",
       "    <tr>\n",
       "      <th>4</th>\n",
       "      <td>1</td>\n",
       "      <td>7</td>\n",
       "      <td>0</td>\n",
       "      <td>117</td>\n",
       "      <td>2.99</td>\n",
       "      <td>G</td>\n",
       "      <td>2</td>\n",
       "    </tr>\n",
       "    <tr>\n",
       "      <th>5</th>\n",
       "      <td>1</td>\n",
       "      <td>3</td>\n",
       "      <td>0</td>\n",
       "      <td>130</td>\n",
       "      <td>2.99</td>\n",
       "      <td>G</td>\n",
       "      <td>2</td>\n",
       "    </tr>\n",
       "    <tr>\n",
       "      <th>...</th>\n",
       "      <td>...</td>\n",
       "      <td>...</td>\n",
       "      <td>...</td>\n",
       "      <td>...</td>\n",
       "      <td>...</td>\n",
       "      <td>...</td>\n",
       "      <td>...</td>\n",
       "    </tr>\n",
       "    <tr>\n",
       "      <th>996</th>\n",
       "      <td>0</td>\n",
       "      <td>2</td>\n",
       "      <td>0</td>\n",
       "      <td>183</td>\n",
       "      <td>0.99</td>\n",
       "      <td>G</td>\n",
       "      <td>1</td>\n",
       "    </tr>\n",
       "    <tr>\n",
       "      <th>997</th>\n",
       "      <td>0</td>\n",
       "      <td>2</td>\n",
       "      <td>1</td>\n",
       "      <td>179</td>\n",
       "      <td>0.99</td>\n",
       "      <td>NC-17</td>\n",
       "      <td>1</td>\n",
       "    </tr>\n",
       "    <tr>\n",
       "      <th>998</th>\n",
       "      <td>1</td>\n",
       "      <td>2</td>\n",
       "      <td>0</td>\n",
       "      <td>105</td>\n",
       "      <td>0.99</td>\n",
       "      <td>NC-17</td>\n",
       "      <td>2</td>\n",
       "    </tr>\n",
       "    <tr>\n",
       "      <th>999</th>\n",
       "      <td>1</td>\n",
       "      <td>5</td>\n",
       "      <td>0</td>\n",
       "      <td>101</td>\n",
       "      <td>2.99</td>\n",
       "      <td>R</td>\n",
       "      <td>2</td>\n",
       "    </tr>\n",
       "    <tr>\n",
       "      <th>1000</th>\n",
       "      <td>1</td>\n",
       "      <td>8</td>\n",
       "      <td>0</td>\n",
       "      <td>50</td>\n",
       "      <td>4.99</td>\n",
       "      <td>NC-17</td>\n",
       "      <td>5</td>\n",
       "    </tr>\n",
       "  </tbody>\n",
       "</table>\n",
       "<p>1000 rows × 7 columns</p>\n",
       "</div>"
      ],
      "text/plain": [
       "         rented_may  film_copies  top_actor_flag  length  rental_rate rating  \\\n",
       "film_id                                                                        \n",
       "1                 1            8               1      86         0.99     PG   \n",
       "2                 0            3               0      48         4.99      G   \n",
       "3                 1            4               0      50         2.99  NC-17   \n",
       "4                 1            7               0     117         2.99      G   \n",
       "5                 1            3               0     130         2.99      G   \n",
       "...             ...          ...             ...     ...          ...    ...   \n",
       "996               0            2               0     183         0.99      G   \n",
       "997               0            2               1     179         0.99  NC-17   \n",
       "998               1            2               0     105         0.99  NC-17   \n",
       "999               1            5               0     101         2.99      R   \n",
       "1000              1            8               0      50         4.99  NC-17   \n",
       "\n",
       "         rental_count_2005_06  \n",
       "film_id                        \n",
       "1                           3  \n",
       "2                           0  \n",
       "3                           1  \n",
       "4                           2  \n",
       "5                           2  \n",
       "...                       ...  \n",
       "996                         1  \n",
       "997                         1  \n",
       "998                         2  \n",
       "999                         2  \n",
       "1000                        5  \n",
       "\n",
       "[1000 rows x 7 columns]"
      ]
     },
     "execution_count": 25,
     "metadata": {},
     "output_type": "execute_result"
    }
   ],
   "source": [
    "#visualize data\n",
    "selected_data"
   ]
  },
  {
   "cell_type": "code",
   "execution_count": null,
   "id": "6fa44ad4-508f-4772-bed7-aa03d40ab07b",
   "metadata": {
    "tags": []
   },
   "outputs": [],
   "source": [
    "# TBD if NEEDED?\n",
    "\n",
    "# reset index to aid the splitting and concatenating of data\n",
    "\n",
    "#selected_data.reset_index(drop=True, inplace=True)\n",
    "\n",
    "#selected_data.set_index(\"film_id\", inplace=True)"
   ]
  },
  {
   "cell_type": "markdown",
   "id": "c471d532-47a3-4e14-8957-b6b8916f3cbc",
   "metadata": {
    "tags": []
   },
   "source": [
    "### Data Splitting: X-y split and train-test-split before transformations"
   ]
  },
  {
   "cell_type": "code",
   "execution_count": 26,
   "id": "4fc649b9-d889-40c3-8a52-8568f143d4a3",
   "metadata": {
    "tags": []
   },
   "outputs": [],
   "source": [
    "# X-y split and train-test-split before transformations\n",
    "# then train transformation on training set only\n",
    "\n",
    "y = selected_data['rented_may']\n",
    "X = selected_data.drop('rented_may', axis=1)\n",
    "\n",
    "from sklearn.model_selection import train_test_split\n",
    "\n",
    "X_train, X_test, y_train, y_test = train_test_split(X, y, test_size=0.25, random_state=70)"
   ]
  },
  {
   "cell_type": "code",
   "execution_count": 27,
   "id": "d13a89eb-2cf8-4451-81fa-e588866e473b",
   "metadata": {
    "tags": []
   },
   "outputs": [
    {
     "name": "stdout",
     "output_type": "stream",
     "text": [
      "(1000,)\n",
      "(1000, 6)\n"
     ]
    }
   ],
   "source": [
    "print(y.shape)\n",
    "print(X.shape)"
   ]
  },
  {
   "cell_type": "code",
   "execution_count": 28,
   "id": "2f1aa617-74b7-45e3-8389-e7451332293f",
   "metadata": {
    "tags": []
   },
   "outputs": [],
   "source": [
    "# (6) Create new Pandas DataFrames from the X_train and X_test Numpy arrays:\n",
    "\n",
    "X_train_df = pd.DataFrame(X_train, columns = X.columns)\n",
    "X_test_df  = pd.DataFrame(X_test,  columns = X.columns)"
   ]
  },
  {
   "cell_type": "code",
   "execution_count": 29,
   "id": "3bc8eb98-eedf-408f-aaab-12b216b70f13",
   "metadata": {
    "tags": []
   },
   "outputs": [
    {
     "name": "stdout",
     "output_type": "stream",
     "text": [
      "(750, 6)\n",
      "(250, 6)\n"
     ]
    }
   ],
   "source": [
    "print(X_train_df.shape)\n",
    "print(X_test_df.shape)"
   ]
  },
  {
   "cell_type": "code",
   "execution_count": null,
   "id": "e2823c65-8963-4e5f-85ff-50bb950616e5",
   "metadata": {
    "tags": []
   },
   "outputs": [],
   "source": [
    "X_train_df['rating'].value_counts()"
   ]
  },
  {
   "cell_type": "code",
   "execution_count": 30,
   "id": "0f904b56-32de-4476-9a0d-d0609118822b",
   "metadata": {
    "tags": []
   },
   "outputs": [],
   "source": [
    "# (7) Split the X_train Pandas DataFrame into two parts: numerical and categorical\n",
    "\n",
    "#numerical TRAIN:\n",
    "X_train_num_df = X_train_df.select_dtypes(include = np.number)\n",
    "\n",
    "#numerical TEST:\n",
    "X_test_num_df = X_test_df.select_dtypes(include = np.number)\n",
    "\n",
    "#categorical:\n",
    "X_train_cat_df=X_train_df.select_dtypes(include=[\"object\"])\n",
    "X_test_cat_df=X_test_df.select_dtypes(include=[\"object\"])"
   ]
  },
  {
   "cell_type": "code",
   "execution_count": 31,
   "id": "130e08cc-f221-40ff-a437-14dc8540074e",
   "metadata": {
    "tags": []
   },
   "outputs": [
    {
     "name": "stdout",
     "output_type": "stream",
     "text": [
      "(750, 5)\n",
      "(250, 5)\n",
      "(750, 1)\n",
      "(250, 1)\n"
     ]
    }
   ],
   "source": [
    "print(X_train_num_df.shape)\n",
    "print(X_test_num_df.shape)\n",
    "\n",
    "print(X_train_cat_df.shape)\n",
    "print(X_test_cat_df.shape)"
   ]
  },
  {
   "cell_type": "code",
   "execution_count": 35,
   "id": "5a0d8513-5226-4bca-b063-33677df8a849",
   "metadata": {
    "tags": []
   },
   "outputs": [
    {
     "data": {
      "text/html": [
       "<div>\n",
       "<style scoped>\n",
       "    .dataframe tbody tr th:only-of-type {\n",
       "        vertical-align: middle;\n",
       "    }\n",
       "\n",
       "    .dataframe tbody tr th {\n",
       "        vertical-align: top;\n",
       "    }\n",
       "\n",
       "    .dataframe thead th {\n",
       "        text-align: right;\n",
       "    }\n",
       "</style>\n",
       "<table border=\"1\" class=\"dataframe\">\n",
       "  <thead>\n",
       "    <tr style=\"text-align: right;\">\n",
       "      <th></th>\n",
       "      <th>rating</th>\n",
       "    </tr>\n",
       "    <tr>\n",
       "      <th>film_id</th>\n",
       "      <th></th>\n",
       "    </tr>\n",
       "  </thead>\n",
       "  <tbody>\n",
       "    <tr>\n",
       "      <th>621</th>\n",
       "      <td>PG-13</td>\n",
       "    </tr>\n",
       "    <tr>\n",
       "      <th>665</th>\n",
       "      <td>PG</td>\n",
       "    </tr>\n",
       "    <tr>\n",
       "      <th>382</th>\n",
       "      <td>PG</td>\n",
       "    </tr>\n",
       "    <tr>\n",
       "      <th>644</th>\n",
       "      <td>PG</td>\n",
       "    </tr>\n",
       "    <tr>\n",
       "      <th>222</th>\n",
       "      <td>R</td>\n",
       "    </tr>\n",
       "    <tr>\n",
       "      <th>...</th>\n",
       "      <td>...</td>\n",
       "    </tr>\n",
       "    <tr>\n",
       "      <th>994</th>\n",
       "      <td>PG-13</td>\n",
       "    </tr>\n",
       "    <tr>\n",
       "      <th>967</th>\n",
       "      <td>R</td>\n",
       "    </tr>\n",
       "    <tr>\n",
       "      <th>107</th>\n",
       "      <td>G</td>\n",
       "    </tr>\n",
       "    <tr>\n",
       "      <th>901</th>\n",
       "      <td>G</td>\n",
       "    </tr>\n",
       "    <tr>\n",
       "      <th>293</th>\n",
       "      <td>G</td>\n",
       "    </tr>\n",
       "  </tbody>\n",
       "</table>\n",
       "<p>250 rows × 1 columns</p>\n",
       "</div>"
      ],
      "text/plain": [
       "        rating\n",
       "film_id       \n",
       "621      PG-13\n",
       "665         PG\n",
       "382         PG\n",
       "644         PG\n",
       "222          R\n",
       "...        ...\n",
       "994      PG-13\n",
       "967          R\n",
       "107          G\n",
       "901          G\n",
       "293          G\n",
       "\n",
       "[250 rows x 1 columns]"
      ]
     },
     "execution_count": 35,
     "metadata": {},
     "output_type": "execute_result"
    }
   ],
   "source": [
    "X_test_cat_df"
   ]
  },
  {
   "cell_type": "markdown",
   "id": "a434dc60-8ba7-46f8-8fb7-8d7644477750",
   "metadata": {
    "tags": []
   },
   "source": [
    "### Data Transformation"
   ]
  },
  {
   "cell_type": "markdown",
   "id": "121fe2f5-40ad-4761-aef0-2c12f4ada2dc",
   "metadata": {
    "tags": []
   },
   "source": [
    "#### transform numerical col"
   ]
  },
  {
   "cell_type": "code",
   "execution_count": null,
   "id": "ed181efc-a894-4c03-ad1f-0dbae3e08868",
   "metadata": {},
   "outputs": [],
   "source": [
    "# decided not to apply any transformation to 'length' as the data shows very slow skewness (0.03)"
   ]
  },
  {
   "cell_type": "markdown",
   "id": "1fcd152f-ec97-4dca-af69-a36305c8c97e",
   "metadata": {
    "tags": []
   },
   "source": [
    "Numerical columns based on dtype.\n",
    "col name type: comment\n",
    "\n",
    "film_id: index: from database\n",
    "\n",
    "film_copies: int: discrete: number of times the film_id shows up in inventory (used as equivalent of number of film copies)\n",
    "\n",
    "rental_count_2005_06: discrete: number of times film was rented in June 2005.\n",
    "\n",
    "\n",
    "length: int: from database, length of film\n",
    "\n",
    "Categorical columns shown as numerical because of the data type:\n",
    "top_actor_flag: int: binary coded column, showing if one of the top 3 prolific actors star in the film. Used as a categorical nominal data type.\n",
    "rental_rate: float: from database, rental rate (price). Will be transformed to 0,1,2 through a mapping, converting it into a categorical ordinal data type."
   ]
  },
  {
   "cell_type": "code",
   "execution_count": 36,
   "id": "6271338b-e146-4632-a736-cc505c87de2f",
   "metadata": {
    "tags": []
   },
   "outputs": [],
   "source": [
    "#rental rate transformation mapping\n",
    "\n",
    "rental_rate_map={0.99: 1, 2.99: 2, 4.99: 3}\n",
    "\n",
    "X_train_num_df['rental_rate'] = X_train_num_df['rental_rate'].replace(rental_rate_map, inplace=False)\n",
    "X_test_num_df['rental_rate']= X_test_num_df['rental_rate'].replace(rental_rate_map, inplace=False)\n",
    "\n",
    "X_train_num_df['rental_rate'] = X_train_num_df['rental_rate'].astype('int')\n",
    "X_test_num_df['rental_rate'] = X_test_num_df['rental_rate'].astype('int')\n"
   ]
  },
  {
   "cell_type": "markdown",
   "id": "e0fe0723-81b0-4d4b-833f-27955479f007",
   "metadata": {
    "tags": []
   },
   "source": [
    "#### transform categorical col"
   ]
  },
  {
   "cell_type": "markdown",
   "id": "dd2aab2c-bc91-4e1c-9bfa-4bfc79ad3447",
   "metadata": {
    "tags": []
   },
   "source": [
    "Categorical Column:\n",
    "\n",
    "rating: categorical: nominal (it has been chosen not to give these categories an order\n",
    "as they reflect potentially different audiences but it has not been possible to clearly define a business related order thereof)\n"
   ]
  },
  {
   "cell_type": "code",
   "execution_count": 37,
   "id": "50b2fea7-b8a1-4a44-8c68-89675e4b4c9f",
   "metadata": {
    "tags": []
   },
   "outputs": [
    {
     "data": {
      "text/html": [
       "<style>#sk-container-id-1 {color: black;}#sk-container-id-1 pre{padding: 0;}#sk-container-id-1 div.sk-toggleable {background-color: white;}#sk-container-id-1 label.sk-toggleable__label {cursor: pointer;display: block;width: 100%;margin-bottom: 0;padding: 0.3em;box-sizing: border-box;text-align: center;}#sk-container-id-1 label.sk-toggleable__label-arrow:before {content: \"▸\";float: left;margin-right: 0.25em;color: #696969;}#sk-container-id-1 label.sk-toggleable__label-arrow:hover:before {color: black;}#sk-container-id-1 div.sk-estimator:hover label.sk-toggleable__label-arrow:before {color: black;}#sk-container-id-1 div.sk-toggleable__content {max-height: 0;max-width: 0;overflow: hidden;text-align: left;background-color: #f0f8ff;}#sk-container-id-1 div.sk-toggleable__content pre {margin: 0.2em;color: black;border-radius: 0.25em;background-color: #f0f8ff;}#sk-container-id-1 input.sk-toggleable__control:checked~div.sk-toggleable__content {max-height: 200px;max-width: 100%;overflow: auto;}#sk-container-id-1 input.sk-toggleable__control:checked~label.sk-toggleable__label-arrow:before {content: \"▾\";}#sk-container-id-1 div.sk-estimator input.sk-toggleable__control:checked~label.sk-toggleable__label {background-color: #d4ebff;}#sk-container-id-1 div.sk-label input.sk-toggleable__control:checked~label.sk-toggleable__label {background-color: #d4ebff;}#sk-container-id-1 input.sk-hidden--visually {border: 0;clip: rect(1px 1px 1px 1px);clip: rect(1px, 1px, 1px, 1px);height: 1px;margin: -1px;overflow: hidden;padding: 0;position: absolute;width: 1px;}#sk-container-id-1 div.sk-estimator {font-family: monospace;background-color: #f0f8ff;border: 1px dotted black;border-radius: 0.25em;box-sizing: border-box;margin-bottom: 0.5em;}#sk-container-id-1 div.sk-estimator:hover {background-color: #d4ebff;}#sk-container-id-1 div.sk-parallel-item::after {content: \"\";width: 100%;border-bottom: 1px solid gray;flex-grow: 1;}#sk-container-id-1 div.sk-label:hover label.sk-toggleable__label {background-color: #d4ebff;}#sk-container-id-1 div.sk-serial::before {content: \"\";position: absolute;border-left: 1px solid gray;box-sizing: border-box;top: 0;bottom: 0;left: 50%;z-index: 0;}#sk-container-id-1 div.sk-serial {display: flex;flex-direction: column;align-items: center;background-color: white;padding-right: 0.2em;padding-left: 0.2em;position: relative;}#sk-container-id-1 div.sk-item {position: relative;z-index: 1;}#sk-container-id-1 div.sk-parallel {display: flex;align-items: stretch;justify-content: center;background-color: white;position: relative;}#sk-container-id-1 div.sk-item::before, #sk-container-id-1 div.sk-parallel-item::before {content: \"\";position: absolute;border-left: 1px solid gray;box-sizing: border-box;top: 0;bottom: 0;left: 50%;z-index: -1;}#sk-container-id-1 div.sk-parallel-item {display: flex;flex-direction: column;z-index: 1;position: relative;background-color: white;}#sk-container-id-1 div.sk-parallel-item:first-child::after {align-self: flex-end;width: 50%;}#sk-container-id-1 div.sk-parallel-item:last-child::after {align-self: flex-start;width: 50%;}#sk-container-id-1 div.sk-parallel-item:only-child::after {width: 0;}#sk-container-id-1 div.sk-dashed-wrapped {border: 1px dashed gray;margin: 0 0.4em 0.5em 0.4em;box-sizing: border-box;padding-bottom: 0.4em;background-color: white;}#sk-container-id-1 div.sk-label label {font-family: monospace;font-weight: bold;display: inline-block;line-height: 1.2em;}#sk-container-id-1 div.sk-label-container {text-align: center;}#sk-container-id-1 div.sk-container {/* jupyter's `normalize.less` sets `[hidden] { display: none; }` but bootstrap.min.css set `[hidden] { display: none !important; }` so we also need the `!important` here to be able to override the default hidden behavior on the sphinx rendered scikit-learn.org. See: https://github.com/scikit-learn/scikit-learn/issues/21755 */display: inline-block !important;position: relative;}#sk-container-id-1 div.sk-text-repr-fallback {display: none;}</style><div id=\"sk-container-id-1\" class=\"sk-top-container\"><div class=\"sk-text-repr-fallback\"><pre>OneHotEncoder(drop=&#x27;first&#x27;, handle_unknown=&#x27;ignore&#x27;)</pre><b>In a Jupyter environment, please rerun this cell to show the HTML representation or trust the notebook. <br />On GitHub, the HTML representation is unable to render, please try loading this page with nbviewer.org.</b></div><div class=\"sk-container\" hidden><div class=\"sk-item\"><div class=\"sk-estimator sk-toggleable\"><input class=\"sk-toggleable__control sk-hidden--visually\" id=\"sk-estimator-id-1\" type=\"checkbox\" checked><label for=\"sk-estimator-id-1\" class=\"sk-toggleable__label sk-toggleable__label-arrow\">OneHotEncoder</label><div class=\"sk-toggleable__content\"><pre>OneHotEncoder(drop=&#x27;first&#x27;, handle_unknown=&#x27;ignore&#x27;)</pre></div></div></div></div></div>"
      ],
      "text/plain": [
       "OneHotEncoder(drop='first', handle_unknown='ignore')"
      ]
     },
     "execution_count": 37,
     "metadata": {},
     "output_type": "execute_result"
    }
   ],
   "source": [
    "# Train the OneHotEncoder only on the train set using the .fit() method.\n",
    "from sklearn.preprocessing import OneHotEncoder\n",
    "import pickle\n",
    "\n",
    "encoder = OneHotEncoder(drop='first', handle_unknown='ignore')  \n",
    "encoder.fit(X_train_cat_df)"
   ]
  },
  {
   "cell_type": "code",
   "execution_count": 38,
   "id": "113316e7-a274-4043-9370-1e62839d7407",
   "metadata": {
    "tags": []
   },
   "outputs": [],
   "source": [
    "# save encoder for future use\n",
    "\n",
    "path = \"./\"\n",
    "filename = \"one_hot_encoder_film_rating.pkl\"\n",
    "with open(path+filename, \"wb\") as file:\n",
    "    pickle.dump(encoder, file)"
   ]
  },
  {
   "cell_type": "code",
   "execution_count": 39,
   "id": "65f265a3-420c-498a-a394-a6f4906dfac0",
   "metadata": {
    "tags": []
   },
   "outputs": [],
   "source": [
    "# # Apply the OneHotEncoder on both the train and test sets using the .transform() method.\n",
    "\n",
    "X_train_cat_npa_encoded = encoder.transform(X_train_cat_df).toarray() #apply to train\n",
    "X_test_cat_npa_encoded = encoder.transform(X_test_cat_df).toarray() #apply to test"
   ]
  },
  {
   "cell_type": "code",
   "execution_count": 40,
   "id": "17cfd02a-bfbb-45a4-870a-b1de6737a515",
   "metadata": {
    "tags": []
   },
   "outputs": [],
   "source": [
    "# convert np.arrays to pd.DataFrame\n",
    "X_train_cat_df_encoded = pd.DataFrame(X_train_cat_npa_encoded, columns=encoder.get_feature_names_out())\n",
    "X_test_cat_df_encoded = pd.DataFrame(X_test_cat_npa_encoded, columns=encoder.get_feature_names_out())"
   ]
  },
  {
   "cell_type": "code",
   "execution_count": 41,
   "id": "980e3bad-1517-4d30-a434-985feb01247d",
   "metadata": {
    "tags": []
   },
   "outputs": [
    {
     "name": "stdout",
     "output_type": "stream",
     "text": [
      "(750, 4)\n",
      "(250, 4)\n"
     ]
    }
   ],
   "source": [
    "print(X_train_cat_df_encoded.shape)\n",
    "print(X_test_cat_df_encoded.shape)"
   ]
  },
  {
   "cell_type": "code",
   "execution_count": 42,
   "id": "69346fa2-6806-4e5a-9b78-cdddaeaf3340",
   "metadata": {
    "tags": []
   },
   "outputs": [
    {
     "name": "stdout",
     "output_type": "stream",
     "text": [
      "(750, 5)\n",
      "(750, 4)\n"
     ]
    }
   ],
   "source": [
    "print(X_train_num_df.shape)\n",
    "print(X_train_cat_df_encoded.shape)"
   ]
  },
  {
   "cell_type": "code",
   "execution_count": 46,
   "id": "05b70995-12e0-41e6-8603-4d9ef574d805",
   "metadata": {
    "tags": []
   },
   "outputs": [],
   "source": [
    "X_train_cat_df_encoded.reset_index(inplace=True)\n"
   ]
  },
  {
   "cell_type": "code",
   "execution_count": 50,
   "id": "3ebf339a-528d-4ac1-8090-dcb53fa4656e",
   "metadata": {
    "tags": []
   },
   "outputs": [
    {
     "data": {
      "text/html": [
       "<div>\n",
       "<style scoped>\n",
       "    .dataframe tbody tr th:only-of-type {\n",
       "        vertical-align: middle;\n",
       "    }\n",
       "\n",
       "    .dataframe tbody tr th {\n",
       "        vertical-align: top;\n",
       "    }\n",
       "\n",
       "    .dataframe thead th {\n",
       "        text-align: right;\n",
       "    }\n",
       "</style>\n",
       "<table border=\"1\" class=\"dataframe\">\n",
       "  <thead>\n",
       "    <tr style=\"text-align: right;\">\n",
       "      <th></th>\n",
       "      <th>film_id</th>\n",
       "      <th>film_copies</th>\n",
       "      <th>top_actor_flag</th>\n",
       "      <th>length</th>\n",
       "      <th>rental_rate</th>\n",
       "      <th>rental_count_2005_06</th>\n",
       "    </tr>\n",
       "  </thead>\n",
       "  <tbody>\n",
       "    <tr>\n",
       "      <th>0</th>\n",
       "      <td>800</td>\n",
       "      <td>6</td>\n",
       "      <td>0</td>\n",
       "      <td>126</td>\n",
       "      <td>2</td>\n",
       "      <td>3</td>\n",
       "    </tr>\n",
       "    <tr>\n",
       "      <th>1</th>\n",
       "      <td>445</td>\n",
       "      <td>6</td>\n",
       "      <td>1</td>\n",
       "      <td>100</td>\n",
       "      <td>2</td>\n",
       "      <td>5</td>\n",
       "    </tr>\n",
       "    <tr>\n",
       "      <th>2</th>\n",
       "      <td>547</td>\n",
       "      <td>2</td>\n",
       "      <td>0</td>\n",
       "      <td>117</td>\n",
       "      <td>1</td>\n",
       "      <td>1</td>\n",
       "    </tr>\n",
       "    <tr>\n",
       "      <th>3</th>\n",
       "      <td>937</td>\n",
       "      <td>5</td>\n",
       "      <td>0</td>\n",
       "      <td>85</td>\n",
       "      <td>2</td>\n",
       "      <td>3</td>\n",
       "    </tr>\n",
       "    <tr>\n",
       "      <th>4</th>\n",
       "      <td>422</td>\n",
       "      <td>2</td>\n",
       "      <td>0</td>\n",
       "      <td>136</td>\n",
       "      <td>3</td>\n",
       "      <td>2</td>\n",
       "    </tr>\n",
       "    <tr>\n",
       "      <th>...</th>\n",
       "      <td>...</td>\n",
       "      <td>...</td>\n",
       "      <td>...</td>\n",
       "      <td>...</td>\n",
       "      <td>...</td>\n",
       "      <td>...</td>\n",
       "    </tr>\n",
       "    <tr>\n",
       "      <th>745</th>\n",
       "      <td>317</td>\n",
       "      <td>7</td>\n",
       "      <td>0</td>\n",
       "      <td>148</td>\n",
       "      <td>1</td>\n",
       "      <td>2</td>\n",
       "    </tr>\n",
       "    <tr>\n",
       "      <th>746</th>\n",
       "      <td>793</td>\n",
       "      <td>4</td>\n",
       "      <td>0</td>\n",
       "      <td>139</td>\n",
       "      <td>2</td>\n",
       "      <td>1</td>\n",
       "    </tr>\n",
       "    <tr>\n",
       "      <th>747</th>\n",
       "      <td>115</td>\n",
       "      <td>7</td>\n",
       "      <td>0</td>\n",
       "      <td>167</td>\n",
       "      <td>2</td>\n",
       "      <td>2</td>\n",
       "    </tr>\n",
       "    <tr>\n",
       "      <th>748</th>\n",
       "      <td>215</td>\n",
       "      <td>6</td>\n",
       "      <td>0</td>\n",
       "      <td>57</td>\n",
       "      <td>3</td>\n",
       "      <td>1</td>\n",
       "    </tr>\n",
       "    <tr>\n",
       "      <th>749</th>\n",
       "      <td>335</td>\n",
       "      <td>2</td>\n",
       "      <td>0</td>\n",
       "      <td>133</td>\n",
       "      <td>1</td>\n",
       "      <td>0</td>\n",
       "    </tr>\n",
       "  </tbody>\n",
       "</table>\n",
       "<p>750 rows × 6 columns</p>\n",
       "</div>"
      ],
      "text/plain": [
       "     film_id  film_copies  top_actor_flag  length  rental_rate  \\\n",
       "0        800            6               0     126            2   \n",
       "1        445            6               1     100            2   \n",
       "2        547            2               0     117            1   \n",
       "3        937            5               0      85            2   \n",
       "4        422            2               0     136            3   \n",
       "..       ...          ...             ...     ...          ...   \n",
       "745      317            7               0     148            1   \n",
       "746      793            4               0     139            2   \n",
       "747      115            7               0     167            2   \n",
       "748      215            6               0      57            3   \n",
       "749      335            2               0     133            1   \n",
       "\n",
       "     rental_count_2005_06  \n",
       "0                       3  \n",
       "1                       5  \n",
       "2                       1  \n",
       "3                       3  \n",
       "4                       2  \n",
       "..                    ...  \n",
       "745                     2  \n",
       "746                     1  \n",
       "747                     2  \n",
       "748                     1  \n",
       "749                     0  \n",
       "\n",
       "[750 rows x 6 columns]"
      ]
     },
     "execution_count": 50,
     "metadata": {},
     "output_type": "execute_result"
    }
   ],
   "source": [
    "#X_train_num_df\n",
    "#X_train_cat_df_encoded\n",
    "#X"
   ]
  },
  {
   "cell_type": "markdown",
   "id": "71c45079-4af3-4d3f-99d0-d5ff5a9d55c3",
   "metadata": {},
   "source": [
    "#### concatenate dataframes"
   ]
  },
  {
   "cell_type": "code",
   "execution_count": 48,
   "id": "708eb0d1-a62f-4695-a13c-1f723b67eee3",
   "metadata": {
    "tags": []
   },
   "outputs": [],
   "source": [
    "X_train_num_df.reset_index(inplace=True)\n",
    "X_train_cat_df_encoded.reset_index(inplace=True)\n",
    "X_test_num_df.reset_index(inplace=True)\n",
    "X_test_cat_df_encoded.reset_index(inplace=True)\n"
   ]
  },
  {
   "cell_type": "code",
   "execution_count": 51,
   "id": "46f5213a-4c46-4a03-94ce-8a0b2b510b84",
   "metadata": {
    "tags": []
   },
   "outputs": [],
   "source": [
    "# (13) Concatenate the transformed numerical and categorical DataFrames:\n",
    "#num, cat ord, cat nom, client\n",
    "#X_train_num_df\n",
    "#X_test_num_df\n",
    "\n",
    "\n",
    "# concat\n",
    "X_train_concat_df = pd.concat([X_train_num_df,X_train_cat_df_encoded], axis=1)\n",
    "X_test_concat_df = pd.concat([X_test_num_df,X_test_cat_df_encoded], axis=1)"
   ]
  },
  {
   "cell_type": "code",
   "execution_count": 59,
   "id": "3cd6e999-33db-4d2b-ba11-9ce4baffd9a4",
   "metadata": {
    "tags": []
   },
   "outputs": [
    {
     "data": {
      "text/html": [
       "<div>\n",
       "<style scoped>\n",
       "    .dataframe tbody tr th:only-of-type {\n",
       "        vertical-align: middle;\n",
       "    }\n",
       "\n",
       "    .dataframe tbody tr th {\n",
       "        vertical-align: top;\n",
       "    }\n",
       "\n",
       "    .dataframe thead th {\n",
       "        text-align: right;\n",
       "    }\n",
       "</style>\n",
       "<table border=\"1\" class=\"dataframe\">\n",
       "  <thead>\n",
       "    <tr style=\"text-align: right;\">\n",
       "      <th></th>\n",
       "      <th>film_copies</th>\n",
       "      <th>top_actor_flag</th>\n",
       "      <th>length</th>\n",
       "      <th>rental_rate</th>\n",
       "      <th>rental_count_2005_06</th>\n",
       "      <th>index</th>\n",
       "      <th>rating_NC-17</th>\n",
       "      <th>rating_PG</th>\n",
       "      <th>rating_PG-13</th>\n",
       "      <th>rating_R</th>\n",
       "    </tr>\n",
       "    <tr>\n",
       "      <th>film_id</th>\n",
       "      <th></th>\n",
       "      <th></th>\n",
       "      <th></th>\n",
       "      <th></th>\n",
       "      <th></th>\n",
       "      <th></th>\n",
       "      <th></th>\n",
       "      <th></th>\n",
       "      <th></th>\n",
       "      <th></th>\n",
       "    </tr>\n",
       "  </thead>\n",
       "  <tbody>\n",
       "    <tr>\n",
       "      <th>621</th>\n",
       "      <td>8</td>\n",
       "      <td>0</td>\n",
       "      <td>75</td>\n",
       "      <td>2</td>\n",
       "      <td>5</td>\n",
       "      <td>0</td>\n",
       "      <td>0.0</td>\n",
       "      <td>0.0</td>\n",
       "      <td>1.0</td>\n",
       "      <td>0.0</td>\n",
       "    </tr>\n",
       "    <tr>\n",
       "      <th>665</th>\n",
       "      <td>7</td>\n",
       "      <td>0</td>\n",
       "      <td>175</td>\n",
       "      <td>2</td>\n",
       "      <td>3</td>\n",
       "      <td>1</td>\n",
       "      <td>0.0</td>\n",
       "      <td>1.0</td>\n",
       "      <td>0.0</td>\n",
       "      <td>0.0</td>\n",
       "    </tr>\n",
       "    <tr>\n",
       "      <th>382</th>\n",
       "      <td>8</td>\n",
       "      <td>0</td>\n",
       "      <td>137</td>\n",
       "      <td>1</td>\n",
       "      <td>6</td>\n",
       "      <td>2</td>\n",
       "      <td>0.0</td>\n",
       "      <td>1.0</td>\n",
       "      <td>0.0</td>\n",
       "      <td>0.0</td>\n",
       "    </tr>\n",
       "    <tr>\n",
       "      <th>644</th>\n",
       "      <td>7</td>\n",
       "      <td>0</td>\n",
       "      <td>115</td>\n",
       "      <td>2</td>\n",
       "      <td>4</td>\n",
       "      <td>3</td>\n",
       "      <td>0.0</td>\n",
       "      <td>1.0</td>\n",
       "      <td>0.0</td>\n",
       "      <td>0.0</td>\n",
       "    </tr>\n",
       "    <tr>\n",
       "      <th>222</th>\n",
       "      <td>6</td>\n",
       "      <td>0</td>\n",
       "      <td>64</td>\n",
       "      <td>3</td>\n",
       "      <td>2</td>\n",
       "      <td>4</td>\n",
       "      <td>0.0</td>\n",
       "      <td>0.0</td>\n",
       "      <td>0.0</td>\n",
       "      <td>1.0</td>\n",
       "    </tr>\n",
       "    <tr>\n",
       "      <th>...</th>\n",
       "      <td>...</td>\n",
       "      <td>...</td>\n",
       "      <td>...</td>\n",
       "      <td>...</td>\n",
       "      <td>...</td>\n",
       "      <td>...</td>\n",
       "      <td>...</td>\n",
       "      <td>...</td>\n",
       "      <td>...</td>\n",
       "      <td>...</td>\n",
       "    </tr>\n",
       "    <tr>\n",
       "      <th>994</th>\n",
       "      <td>3</td>\n",
       "      <td>0</td>\n",
       "      <td>100</td>\n",
       "      <td>3</td>\n",
       "      <td>2</td>\n",
       "      <td>245</td>\n",
       "      <td>0.0</td>\n",
       "      <td>0.0</td>\n",
       "      <td>1.0</td>\n",
       "      <td>0.0</td>\n",
       "    </tr>\n",
       "    <tr>\n",
       "      <th>967</th>\n",
       "      <td>5</td>\n",
       "      <td>0</td>\n",
       "      <td>134</td>\n",
       "      <td>2</td>\n",
       "      <td>3</td>\n",
       "      <td>246</td>\n",
       "      <td>0.0</td>\n",
       "      <td>0.0</td>\n",
       "      <td>0.0</td>\n",
       "      <td>1.0</td>\n",
       "    </tr>\n",
       "    <tr>\n",
       "      <th>107</th>\n",
       "      <td>2</td>\n",
       "      <td>0</td>\n",
       "      <td>63</td>\n",
       "      <td>2</td>\n",
       "      <td>0</td>\n",
       "      <td>247</td>\n",
       "      <td>0.0</td>\n",
       "      <td>0.0</td>\n",
       "      <td>0.0</td>\n",
       "      <td>0.0</td>\n",
       "    </tr>\n",
       "    <tr>\n",
       "      <th>901</th>\n",
       "      <td>7</td>\n",
       "      <td>0</td>\n",
       "      <td>142</td>\n",
       "      <td>1</td>\n",
       "      <td>5</td>\n",
       "      <td>248</td>\n",
       "      <td>0.0</td>\n",
       "      <td>0.0</td>\n",
       "      <td>0.0</td>\n",
       "      <td>0.0</td>\n",
       "    </tr>\n",
       "    <tr>\n",
       "      <th>293</th>\n",
       "      <td>5</td>\n",
       "      <td>0</td>\n",
       "      <td>167</td>\n",
       "      <td>2</td>\n",
       "      <td>1</td>\n",
       "      <td>249</td>\n",
       "      <td>0.0</td>\n",
       "      <td>0.0</td>\n",
       "      <td>0.0</td>\n",
       "      <td>0.0</td>\n",
       "    </tr>\n",
       "  </tbody>\n",
       "</table>\n",
       "<p>250 rows × 10 columns</p>\n",
       "</div>"
      ],
      "text/plain": [
       "         film_copies  top_actor_flag  length  rental_rate  \\\n",
       "film_id                                                     \n",
       "621                8               0      75            2   \n",
       "665                7               0     175            2   \n",
       "382                8               0     137            1   \n",
       "644                7               0     115            2   \n",
       "222                6               0      64            3   \n",
       "...              ...             ...     ...          ...   \n",
       "994                3               0     100            3   \n",
       "967                5               0     134            2   \n",
       "107                2               0      63            2   \n",
       "901                7               0     142            1   \n",
       "293                5               0     167            2   \n",
       "\n",
       "         rental_count_2005_06  index  rating_NC-17  rating_PG  rating_PG-13  \\\n",
       "film_id                                                                       \n",
       "621                         5      0           0.0        0.0           1.0   \n",
       "665                         3      1           0.0        1.0           0.0   \n",
       "382                         6      2           0.0        1.0           0.0   \n",
       "644                         4      3           0.0        1.0           0.0   \n",
       "222                         2      4           0.0        0.0           0.0   \n",
       "...                       ...    ...           ...        ...           ...   \n",
       "994                         2    245           0.0        0.0           1.0   \n",
       "967                         3    246           0.0        0.0           0.0   \n",
       "107                         0    247           0.0        0.0           0.0   \n",
       "901                         5    248           0.0        0.0           0.0   \n",
       "293                         1    249           0.0        0.0           0.0   \n",
       "\n",
       "         rating_R  \n",
       "film_id            \n",
       "621           0.0  \n",
       "665           0.0  \n",
       "382           0.0  \n",
       "644           0.0  \n",
       "222           1.0  \n",
       "...           ...  \n",
       "994           0.0  \n",
       "967           1.0  \n",
       "107           0.0  \n",
       "901           0.0  \n",
       "293           0.0  \n",
       "\n",
       "[250 rows x 10 columns]"
      ]
     },
     "execution_count": 59,
     "metadata": {},
     "output_type": "execute_result"
    }
   ],
   "source": [
    "X_test_concat_df"
   ]
  },
  {
   "cell_type": "code",
   "execution_count": 57,
   "id": "f96d406b-df11-4e60-a438-44350707c6a6",
   "metadata": {
    "tags": []
   },
   "outputs": [],
   "source": [
    "X_train_concat_df.reset_index(drop=True, inplace=True)\n",
    "X_test_concat_df.reset_index(drop=True, inplace=True)\n",
    "\n",
    "X_train_concat_df.set_index(\"film_id\", inplace=True)\n",
    "X_test_concat_df.set_index(\"film_id\", inplace=True)"
   ]
  },
  {
   "cell_type": "code",
   "execution_count": null,
   "id": "29354bc7-cca9-49e3-96d4-3d7b934c4e8e",
   "metadata": {
    "tags": []
   },
   "outputs": [],
   "source": [
    "X_test_concat_df"
   ]
  },
  {
   "cell_type": "markdown",
   "id": "746b6681-b7ec-4d83-a4e1-dc9789d38708",
   "metadata": {},
   "source": [
    "### SCALE?"
   ]
  },
  {
   "cell_type": "code",
   "execution_count": 60,
   "id": "eb4a38b0-e6ff-4ea0-8489-91bc53fbe522",
   "metadata": {
    "tags": []
   },
   "outputs": [],
   "source": [
    "from sklearn.preprocessing import MinMaxScaler\n",
    "# from sklearn.preprocessing import StandardScaler\n",
    "#X_train_concat_df \n",
    "#X_test_concat_df\n",
    "\n",
    "\n",
    "X_train_minmax_cols = X_train_concat_df[['length','film_copies']]\n",
    "X_test_minmax_cols = X_test_concat_df[['length','film_copies']]\n",
    "\n",
    "# Scaling data\n",
    "transformer = MinMaxScaler().fit(X_train_minmax_cols) # need to keep transformer\n",
    "\n",
    "X_train_normalized = transformer.transform(X_train_minmax_cols)\n",
    "X_test_normalized  = transformer.transform(X_test_minmax_cols)\n",
    "\n",
    "X_train_norm = pd.DataFrame(X_train_normalized, columns=X_train_minmax_cols.columns, index= X_train_minmax_cols.index)\n",
    "X_test_norm  = pd.DataFrame(X_test_normalized, columns=X_test_minmax_cols.columns, index= X_test_minmax_cols.index)"
   ]
  },
  {
   "cell_type": "code",
   "execution_count": 61,
   "id": "4063ce2e-9220-4b45-8bda-0d0501bd6d9a",
   "metadata": {
    "tags": []
   },
   "outputs": [],
   "source": [
    "path = \"./\"\n",
    "filename = \"MinMaxScaler.pkl\"\n",
    "with open(path+filename, \"wb\") as file:\n",
    "    pickle.dump(transformer, file)"
   ]
  },
  {
   "cell_type": "code",
   "execution_count": 62,
   "id": "7ed9882a-f047-4cb1-8ba7-5831cf42fbf7",
   "metadata": {
    "tags": []
   },
   "outputs": [],
   "source": [
    "X_train_concat_df[['length','film_copies']]=X_train_norm"
   ]
  },
  {
   "cell_type": "code",
   "execution_count": 63,
   "id": "dcbc927b-90eb-45a8-94c2-c445ab24aa4f",
   "metadata": {
    "tags": []
   },
   "outputs": [],
   "source": [
    "X_test_concat_df[['length','film_copies']]=X_test_norm"
   ]
  },
  {
   "cell_type": "markdown",
   "id": "f6d98261-dc1a-494b-ac16-147e03aa30d6",
   "metadata": {},
   "source": [
    "### 5. Create a logistic regression model to predict 'rented_in_may' from the cleaned data."
   ]
  },
  {
   "cell_type": "code",
   "execution_count": 67,
   "id": "abafcc61-2929-402c-b2c6-05fe90936b16",
   "metadata": {
    "tags": []
   },
   "outputs": [],
   "source": [
    "# Solve issue unglamorously: drop index columns that should not be present.\n",
    "# To be corrected in previous code!\n",
    "\n",
    "X_train_concat_df.drop('level_0', axis=1, inplace=True)\n",
    "X_train_concat_df.drop('index', axis=1, inplace=True)\n",
    "X_test_concat_df.drop('index', axis=1, inplace=True)\n"
   ]
  },
  {
   "cell_type": "code",
   "execution_count": 68,
   "id": "e6f1564f-dc2b-47f7-a24c-e5dc17028fc2",
   "metadata": {
    "tags": []
   },
   "outputs": [
    {
     "data": {
      "text/html": [
       "<style>#sk-container-id-2 {color: black;}#sk-container-id-2 pre{padding: 0;}#sk-container-id-2 div.sk-toggleable {background-color: white;}#sk-container-id-2 label.sk-toggleable__label {cursor: pointer;display: block;width: 100%;margin-bottom: 0;padding: 0.3em;box-sizing: border-box;text-align: center;}#sk-container-id-2 label.sk-toggleable__label-arrow:before {content: \"▸\";float: left;margin-right: 0.25em;color: #696969;}#sk-container-id-2 label.sk-toggleable__label-arrow:hover:before {color: black;}#sk-container-id-2 div.sk-estimator:hover label.sk-toggleable__label-arrow:before {color: black;}#sk-container-id-2 div.sk-toggleable__content {max-height: 0;max-width: 0;overflow: hidden;text-align: left;background-color: #f0f8ff;}#sk-container-id-2 div.sk-toggleable__content pre {margin: 0.2em;color: black;border-radius: 0.25em;background-color: #f0f8ff;}#sk-container-id-2 input.sk-toggleable__control:checked~div.sk-toggleable__content {max-height: 200px;max-width: 100%;overflow: auto;}#sk-container-id-2 input.sk-toggleable__control:checked~label.sk-toggleable__label-arrow:before {content: \"▾\";}#sk-container-id-2 div.sk-estimator input.sk-toggleable__control:checked~label.sk-toggleable__label {background-color: #d4ebff;}#sk-container-id-2 div.sk-label input.sk-toggleable__control:checked~label.sk-toggleable__label {background-color: #d4ebff;}#sk-container-id-2 input.sk-hidden--visually {border: 0;clip: rect(1px 1px 1px 1px);clip: rect(1px, 1px, 1px, 1px);height: 1px;margin: -1px;overflow: hidden;padding: 0;position: absolute;width: 1px;}#sk-container-id-2 div.sk-estimator {font-family: monospace;background-color: #f0f8ff;border: 1px dotted black;border-radius: 0.25em;box-sizing: border-box;margin-bottom: 0.5em;}#sk-container-id-2 div.sk-estimator:hover {background-color: #d4ebff;}#sk-container-id-2 div.sk-parallel-item::after {content: \"\";width: 100%;border-bottom: 1px solid gray;flex-grow: 1;}#sk-container-id-2 div.sk-label:hover label.sk-toggleable__label {background-color: #d4ebff;}#sk-container-id-2 div.sk-serial::before {content: \"\";position: absolute;border-left: 1px solid gray;box-sizing: border-box;top: 0;bottom: 0;left: 50%;z-index: 0;}#sk-container-id-2 div.sk-serial {display: flex;flex-direction: column;align-items: center;background-color: white;padding-right: 0.2em;padding-left: 0.2em;position: relative;}#sk-container-id-2 div.sk-item {position: relative;z-index: 1;}#sk-container-id-2 div.sk-parallel {display: flex;align-items: stretch;justify-content: center;background-color: white;position: relative;}#sk-container-id-2 div.sk-item::before, #sk-container-id-2 div.sk-parallel-item::before {content: \"\";position: absolute;border-left: 1px solid gray;box-sizing: border-box;top: 0;bottom: 0;left: 50%;z-index: -1;}#sk-container-id-2 div.sk-parallel-item {display: flex;flex-direction: column;z-index: 1;position: relative;background-color: white;}#sk-container-id-2 div.sk-parallel-item:first-child::after {align-self: flex-end;width: 50%;}#sk-container-id-2 div.sk-parallel-item:last-child::after {align-self: flex-start;width: 50%;}#sk-container-id-2 div.sk-parallel-item:only-child::after {width: 0;}#sk-container-id-2 div.sk-dashed-wrapped {border: 1px dashed gray;margin: 0 0.4em 0.5em 0.4em;box-sizing: border-box;padding-bottom: 0.4em;background-color: white;}#sk-container-id-2 div.sk-label label {font-family: monospace;font-weight: bold;display: inline-block;line-height: 1.2em;}#sk-container-id-2 div.sk-label-container {text-align: center;}#sk-container-id-2 div.sk-container {/* jupyter's `normalize.less` sets `[hidden] { display: none; }` but bootstrap.min.css set `[hidden] { display: none !important; }` so we also need the `!important` here to be able to override the default hidden behavior on the sphinx rendered scikit-learn.org. See: https://github.com/scikit-learn/scikit-learn/issues/21755 */display: inline-block !important;position: relative;}#sk-container-id-2 div.sk-text-repr-fallback {display: none;}</style><div id=\"sk-container-id-2\" class=\"sk-top-container\"><div class=\"sk-text-repr-fallback\"><pre>LogisticRegression(max_iter=1000, multi_class=&#x27;multinomial&#x27;, random_state=0)</pre><b>In a Jupyter environment, please rerun this cell to show the HTML representation or trust the notebook. <br />On GitHub, the HTML representation is unable to render, please try loading this page with nbviewer.org.</b></div><div class=\"sk-container\" hidden><div class=\"sk-item\"><div class=\"sk-estimator sk-toggleable\"><input class=\"sk-toggleable__control sk-hidden--visually\" id=\"sk-estimator-id-2\" type=\"checkbox\" checked><label for=\"sk-estimator-id-2\" class=\"sk-toggleable__label sk-toggleable__label-arrow\">LogisticRegression</label><div class=\"sk-toggleable__content\"><pre>LogisticRegression(max_iter=1000, multi_class=&#x27;multinomial&#x27;, random_state=0)</pre></div></div></div></div></div>"
      ],
      "text/plain": [
       "LogisticRegression(max_iter=1000, multi_class='multinomial', random_state=0)"
      ]
     },
     "execution_count": 68,
     "metadata": {},
     "output_type": "execute_result"
    }
   ],
   "source": [
    "from sklearn.linear_model import LogisticRegression\n",
    "\n",
    "classification = LogisticRegression(max_iter=1000, random_state=0, solver='lbfgs',\n",
    "                  multi_class='multinomial')\n",
    "\n",
    "classification.fit(X_train_concat_df, y_train)"
   ]
  },
  {
   "cell_type": "code",
   "execution_count": 69,
   "id": "fa39d6cd-6021-41eb-a9cb-62d8cd0e3727",
   "metadata": {
    "tags": []
   },
   "outputs": [],
   "source": [
    "path = \"./\"\n",
    "filename = \"classification_logistic_regression.pkl\"\n",
    "with open(path+filename, \"wb\") as file:\n",
    "    pickle.dump(classification, file)"
   ]
  },
  {
   "cell_type": "code",
   "execution_count": 65,
   "id": "4670096b-d069-48c2-8b1f-d4f91c1821f2",
   "metadata": {
    "tags": []
   },
   "outputs": [],
   "source": [
    "#X_train_concat_df"
   ]
  },
  {
   "cell_type": "code",
   "execution_count": 70,
   "id": "b8fc4fb4-cb1c-45cb-a6ae-82577989ec52",
   "metadata": {
    "tags": []
   },
   "outputs": [],
   "source": [
    "#X_test_concat_df"
   ]
  },
  {
   "cell_type": "code",
   "execution_count": 71,
   "id": "fb795837-5fdf-487d-bd8e-ca35de4f20cb",
   "metadata": {},
   "outputs": [],
   "source": [
    "# Make predictions on the test set: \n",
    "# Use the trained model to predict the target variable values for the transformed test data:\n",
    "\n",
    "y_test_pred = classification.predict(X_test_concat_df)"
   ]
  },
  {
   "cell_type": "code",
   "execution_count": 72,
   "id": "8f2f0a48-ccbb-4815-84d3-aa4c98a5afce",
   "metadata": {
    "tags": []
   },
   "outputs": [
    {
     "name": "stdout",
     "output_type": "stream",
     "text": [
      "[1 1 1 1 1 1 1 1 1 1 1 1 0 1 1 0 1 0 1 0 1 1 0 1 1 1 0 1 1 1 1 0 1 0 1 1 1\n",
      " 1 1 0 1 1 1 1 1 1 1 1 0 1 1 0 1 0 1 1 1 1 1 1 1 1 1 1 0 1 0 1 1 0 1 1 0 1\n",
      " 1 1 1 0 1 1 1 1 1 1 1 1 1 1 0 0 1 1 0 1 1 1 1 1 1 0 0 1 0 1 1 0 1 1 1 1 0\n",
      " 1 1 1 1 1 1 1 1 0 1 1 0 1 1 0 0 1 1 1 1 1 1 1 1 1 1 0 1 1 1 0 1 1 1 0 1 0\n",
      " 1 1 0 1 0 0 1 1 1 1 0 1 1 1 1 0 1 1 0 1 1 1 1 1 0 0 1 1 0 1 0 1 1 0 1 1 1\n",
      " 1 1 0 1 1 1 1 0 0 0 1 1 1 1 1 1 0 1 1 0 1 1 1 0 1 1 1 1 1 1 1 0 1 1 1 1 1\n",
      " 1 1 1 0 0 0 1 0 1 1 1 0 1 1 0 1 1 0 1 1 0 0 1 1 1 0 1 1]\n"
     ]
    }
   ],
   "source": [
    "print(y_test_pred)"
   ]
  },
  {
   "cell_type": "code",
   "execution_count": 73,
   "id": "fe2c211d-c805-4c1e-9dfa-23c7d632e1d6",
   "metadata": {
    "tags": []
   },
   "outputs": [
    {
     "data": {
      "text/plain": [
       "rented_may\n",
       "1    513\n",
       "0    237\n",
       "Name: count, dtype: int64"
      ]
     },
     "execution_count": 73,
     "metadata": {},
     "output_type": "execute_result"
    }
   ],
   "source": [
    "# Comparing y_train to y_test_pred below: shows the test has amplified the result '0'\n",
    "pd.Series(y_train).value_counts()\n"
   ]
  },
  {
   "cell_type": "code",
   "execution_count": 74,
   "id": "c3e37ccf-3c53-47c4-91da-8adf1c7220ce",
   "metadata": {
    "tags": []
   },
   "outputs": [
    {
     "data": {
      "text/plain": [
       "1    188\n",
       "0     62\n",
       "Name: count, dtype: int64"
      ]
     },
     "execution_count": 74,
     "metadata": {},
     "output_type": "execute_result"
    }
   ],
   "source": [
    "pd.Series(y_test_pred).value_counts()\n"
   ]
  },
  {
   "cell_type": "code",
   "execution_count": null,
   "id": "085edf59-19dc-43d9-8ad2-27cfbf074c2a",
   "metadata": {
    "tags": []
   },
   "outputs": [],
   "source": [
    "# 6. Evaluate the results."
   ]
  },
  {
   "cell_type": "code",
   "execution_count": 75,
   "id": "af297948-5dc7-4c67-a542-2f2597c2c525",
   "metadata": {
    "tags": []
   },
   "outputs": [
    {
     "name": "stdout",
     "output_type": "stream",
     "text": [
      "0.796\n"
     ]
    }
   ],
   "source": [
    "#Evaluate the model's performance: Now that you have the predicted values (y_test_pred) for the test set,\n",
    "# you can compare them with the actual target variable values (y_test) to evaluate the model's performance\n",
    "from sklearn.metrics import accuracy_score\n",
    "\n",
    "print(accuracy_score(y_test, y_test_pred)) # or classification.score(X_test_concat_df, y_test)\n",
    "\n"
   ]
  },
  {
   "cell_type": "code",
   "execution_count": null,
   "id": "b4e3d89b-df01-48a9-9e51-bb77ced8f8fe",
   "metadata": {},
   "outputs": [],
   "source": [
    "#For classification models, other evaluation metrics like accuracy, precision, recall, \n",
    "# and F1 score are commonly used to assess model performance, while R-squared is more appropriate \n",
    "# for regression models."
   ]
  },
  {
   "cell_type": "code",
   "execution_count": 76,
   "id": "898085bf-f458-4311-85b9-bbcae1bb5221",
   "metadata": {
    "tags": []
   },
   "outputs": [
    {
     "data": {
      "text/plain": [
       "array([[ 44,  33],\n",
       "       [ 18, 155]])"
      ]
     },
     "execution_count": 76,
     "metadata": {},
     "output_type": "execute_result"
    }
   ],
   "source": [
    "from sklearn.metrics import confusion_matrix, ConfusionMatrixDisplay\n",
    "\n",
    "confusion_matrix(y_test, y_test_pred)"
   ]
  },
  {
   "cell_type": "code",
   "execution_count": 78,
   "id": "d3233d4a-592f-463e-bde1-231487238104",
   "metadata": {
    "tags": []
   },
   "outputs": [],
   "source": [
    "import matplotlib.pyplot as plt\n"
   ]
  },
  {
   "cell_type": "code",
   "execution_count": 79,
   "id": "4ef8a7d7-c03d-43e0-b616-f80c363d705b",
   "metadata": {
    "tags": []
   },
   "outputs": [
    {
     "data": {
      "image/png": "[encoded data removed]",
      "text/plain": [
       "<Figure size 640x480 with 2 Axes>"
      ]
     },
     "metadata": {},
     "output_type": "display_data"
    }
   ],
   "source": [
    "cm_test = confusion_matrix(y_test, y_test_pred)\n",
    "\n",
    "disp = ConfusionMatrixDisplay(cm_test,display_labels=classification.classes_)\n",
    "disp.plot()\n",
    "plt.show()"
   ]
  },
  {
   "cell_type": "code",
   "execution_count": 80,
   "id": "e682b7cd-db5f-4590-8a37-985651cbc444",
   "metadata": {
    "tags": []
   },
   "outputs": [],
   "source": [
    "from sklearn.metrics import cohen_kappa_score"
   ]
  },
  {
   "cell_type": "code",
   "execution_count": 81,
   "id": "f8bca84e-bba6-4b89-92c6-b3b01c22b875",
   "metadata": {
    "tags": []
   },
   "outputs": [
    {
     "data": {
      "text/plain": [
       "0.4940877708118404"
      ]
     },
     "execution_count": 81,
     "metadata": {},
     "output_type": "execute_result"
    }
   ],
   "source": [
    "cohen_kappa_score(y_test, y_test_pred)"
   ]
  },
  {
   "cell_type": "code",
   "execution_count": 82,
   "id": "1e18ec38-a0c3-45ac-9603-d00c16b4323d",
   "metadata": {
    "tags": []
   },
   "outputs": [
    {
     "name": "stdout",
     "output_type": "stream",
     "text": [
      "              precision    recall  f1-score   support\n",
      "\n",
      "           0       0.71      0.57      0.63        77\n",
      "           1       0.82      0.90      0.86       173\n",
      "\n",
      "    accuracy                           0.80       250\n",
      "   macro avg       0.77      0.73      0.75       250\n",
      "weighted avg       0.79      0.80      0.79       250\n",
      "\n"
     ]
    }
   ],
   "source": [
    "from sklearn.metrics import classification_report\n",
    "\n",
    "print(classification_report(y_test, y_test_pred))"
   ]
  },
  {
   "cell_type": "markdown",
   "id": "823320ca-23d6-43f3-9f84-fa21193b6ba4",
   "metadata": {},
   "source": [
    "## Test Interpretations: analyzing first test run:\n"
   ]
  },
  {
   "cell_type": "markdown",
   "id": "15f841e6-e5f0-4cfa-822e-3d12b316d081",
   "metadata": {},
   "source": [
    "First test run:\n",
    "\n",
    "list of columns:\n",
    "['film_id', 'film_copies', 'top_actor_flag', 'length', 'rental_rate',\n",
    "       Rating columns: 'rating_NC-17', 'rating_PG', 'rating_PG-13', 'rating_R']\n",
    "\n",
    "Variable transformation:\n",
    "\n",
    "numerical: no transformation\n",
    "\n",
    "Categorical:\n",
    "\n",
    "Rating: onehotencoder\n",
    "rental_rate: converted to integrers 0,1,2 based on the rental rate (price\n",
    "\n",
    "Scaling: no scaling applied\n",
    "\n",
    "RESULTS:\n",
    "accuracy: 0.732\n",
    "\n",
    "kappa: 0.2496192097482305\n",
    "\n",
    "              precision    recall  f1-score   support\n",
    "\n",
    "           0       0.66      0.27      0.39        77\n",
    "           1       0.74      0.94      0.83       173\n",
    "\n",
    "    accuracy                           0.73       250\n",
    "   macro avg       0.70      0.60      0.61       250\n",
    "weighted avg       0.72      0.73      0.69       250\n"
   ]
  },
  {
   "cell_type": "markdown",
   "id": "5792e39b-e3bb-4496-b688-aea5f3e214e7",
   "metadata": {},
   "source": [
    "Second test run: (changes vs previous test run marked as: *CHANGE)\n",
    "\n",
    "No material change in results!\n",
    "\n",
    "list of columns:\n",
    "['film_id', 'film_copies', 'top_actor_flag', 'length', 'rental_rate',\n",
    "       Rating columns: 'rating_NC-17', 'rating_PG', 'rating_PG-13', 'rating_R']\n",
    "\n",
    "Variable transformation:\n",
    "\n",
    "numerical: no transformation\n",
    "\n",
    "Categorical:\n",
    "\n",
    "Rating: onehotencoder\n",
    "rental_rate: converted to integrers 0,1,2 based on the rental rate (price\n",
    "\n",
    "Scaling:  *CHANGE: minmax scaler to be applied to length and film copies."
   ]
  },
  {
   "cell_type": "markdown",
   "id": "2ef9fc9e-2b20-4e7a-8126-a0b5c47b660a",
   "metadata": {},
   "source": [
    "Third test run:\n",
    "\n",
    "list of columns:  *CHANGE: rental count previous month to be added.\n",
    "['film_id', 'film_copies', 'top_actor_flag', 'length', 'rental_rate',\n",
    "       Rating columns: 'rating_NC-17', 'rating_PG', 'rating_PG-13', 'rating_R']\n",
    "\n",
    "Variable transformation:\n",
    "\n",
    "numerical: no transformation\n",
    "\n",
    "Categorical:\n",
    "\n",
    "Rating: onehotencoder\n",
    "rental_rate: converted to integrers 0,1,2 based on the rental rate (price\n",
    "\n",
    "Scaling:  *CHANGE: minmax scaler to be applied to length and film copies.\n",
    "\n",
    "RESULTS\n",
    "\n",
    "accuracy: 0.796\n",
    "\n",
    "kappa: 0.4940877708118404 (increase from 0.2496192097482305)\n",
    "              precision    recall  f1-score   support\n",
    "\n",
    "           0       0.71      0.57      0.63        77\n",
    "           1       0.82      0.90      0.86       173\n",
    "\n",
    "    accuracy                           0.80       250\n",
    "   macro avg       0.77      0.73      0.75       250\n",
    "weighted avg       0.79      0.80      0.79       250\n",
    "\n",
    "\n",
    "\n"
   ]
  }
 ],
 "metadata": {
  "kernelspec": {
   "display_name": "Python 3 (ipykernel)",
   "language": "python",
   "name": "python3"
  },
  "language_info": {
   "codemirror_mode": {
    "name": "ipython",
    "version": 3
   },
   "file_extension": ".py",
   "mimetype": "text/x-python",
   "name": "python",
   "nbconvert_exporter": "python",
   "pygments_lexer": "ipython3",
   "version": "3.11.5"
  }
 },
 "nbformat": 4,
 "nbformat_minor": 5
}
